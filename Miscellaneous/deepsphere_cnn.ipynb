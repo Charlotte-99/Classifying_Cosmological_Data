{
  "nbformat": 4,
  "nbformat_minor": 0,
  "metadata": {
    "colab": {
      "name": "deepsphere cnn.ipynb",
      "provenance": [],
      "authorship_tag": "ABX9TyO3oOYkrm6YfEdzcc71H0Pm",
      "include_colab_link": true
    },
    "kernelspec": {
      "name": "python3",
      "display_name": "Python 3"
    },
    "language_info": {
      "name": "python"
    }
  },
  "cells": [
    {
      "cell_type": "markdown",
      "metadata": {
        "id": "view-in-github",
        "colab_type": "text"
      },
      "source": [
        "<a href=\"https://colab.research.google.com/github/Charlotte-99/Y3Project/blob/main/deepsphere_cnn.ipynb\" target=\"_parent\"><img src=\"https://colab.research.google.com/assets/colab-badge.svg\" alt=\"Open In Colab\"/></a>"
      ]
    },
    {
      "cell_type": "markdown",
      "metadata": {
        "id": "1k7YPJWqr5r3"
      },
      "source": [
        "# Healpy and DeepSphere"
      ]
    },
    {
      "cell_type": "markdown",
      "metadata": {
        "id": "cONxCdqor-KP"
      },
      "source": [
        "## Importing the modules\n",
        "First we mount our google drive (this will bring up an authentication process)."
      ]
    },
    {
      "cell_type": "code",
      "metadata": {
        "id": "wENF_78TQAjB"
      },
      "source": [
        "from google.colab import drive\n",
        "import os\n",
        "\n",
        "drive.mount('/content/drive')"
      ],
      "execution_count": null,
      "outputs": []
    },
    {
      "cell_type": "markdown",
      "metadata": {
        "id": "qxvdQxtdsPzG"
      },
      "source": [
        "We can then change directory to our main Google drive folder."
      ]
    },
    {
      "cell_type": "code",
      "metadata": {
        "id": "NyL52m6hSrVu"
      },
      "source": [
        "os.chdir('/content/drive/My Drive')"
      ],
      "execution_count": null,
      "outputs": []
    },
    {
      "cell_type": "markdown",
      "metadata": {
        "id": "PSjCG4CAsgiP"
      },
      "source": [
        "Then we clone the GitHub repository and change directory to this folder.\n",
        "This should only need to be done this one time, afterwards we can comment out the cloning line."
      ]
    },
    {
      "cell_type": "code",
      "metadata": {
        "id": "w7YHgvFYUFTL"
      },
      "source": [
        "#!git clone https://github.com/deepsphere/deepsphere-cosmo-tf2.git\n",
        "os.chdir('/content/drive/My Drive/deepsphere-cosmo-tf2')"
      ],
      "execution_count": null,
      "outputs": []
    },
    {
      "cell_type": "markdown",
      "metadata": {
        "id": "VXCNP3i_swng"
      },
      "source": [
        "We then have to install the package requirements using the .txt file."
      ]
    },
    {
      "cell_type": "code",
      "metadata": {
        "id": "xXqgLDCDUU5K"
      },
      "source": [
        "!pip install -r requirements.txt"
      ],
      "execution_count": null,
      "outputs": []
    },
    {
      "cell_type": "markdown",
      "metadata": {
        "id": "MlLmjwUys3Gr"
      },
      "source": [
        "Then we install the deepsphere package.\n",
        "\n",
        "After running this cell, restart the runtime."
      ]
    },
    {
      "cell_type": "code",
      "metadata": {
        "id": "9w5zwzYfUYfy"
      },
      "source": [
        "!pip install -e ."
      ],
      "execution_count": null,
      "outputs": []
    },
    {
      "cell_type": "markdown",
      "metadata": {
        "id": "wbGsvmYmtBFT"
      },
      "source": [
        "Then we can import modules (and make sure the directory is correct)."
      ]
    },
    {
      "cell_type": "code",
      "metadata": {
        "id": "71D-qWRpUqNN"
      },
      "source": [
        "import deepsphere\n",
        "import matplotlib.pyplot as plt\n",
        "import tensorflow as tf\n",
        "import numpy as np \n",
        "import os\n",
        "import healpy as hp\n",
        "\n",
        "\n",
        "from google.colab import files\n",
        "from deepsphere import HealpyGCNN\n",
        "import deepsphere.healpy_layers as hp_layer\n",
        "from matplotlib.colors import ListedColormap\n",
        "\n",
        "os.chdir('/content/drive/My Drive/deepsphere-cosmo-tf2')"
      ],
      "execution_count": null,
      "outputs": []
    },
    {
      "cell_type": "markdown",
      "metadata": {
        "id": "uhRAoT0Gtoqr"
      },
      "source": [
        "## DeepSphere CNN\n",
        "Can then play around with tutorials."
      ]
    },
    {
      "cell_type": "code",
      "metadata": {
        "id": "BBuGVjAyVFRM"
      },
      "source": [
        "# Upload files (this will upload to your drive folder)\n",
        "files.upload()"
      ],
      "execution_count": null,
      "outputs": []
    },
    {
      "cell_type": "markdown",
      "metadata": {
        "id": "2OYJ-vRZbuUl"
      },
      "source": [
        "### Generating Maps\n",
        "We will use the healpy library to generate sky maps for different power spectra. \n",
        "\n",
        "First we will load the power spectra and colour map."
      ]
    },
    {
      "cell_type": "code",
      "metadata": {
        "id": "p0K_v7JlZlp2"
      },
      "source": [
        "# Load spectra as np arrays\n",
        "power_0_02 = np.loadtxt('camb_0_02.txt')\n",
        "power_0_03 = np.loadtxt('camb_0_03.txt')\n",
        "power_0_04 = np.loadtxt('camb_0_04.txt')\n",
        "power_0_05 = np.loadtxt('camb_0_05.txt')\n",
        "\n",
        "# Load colourmap\n",
        "cmap = ListedColormap(np.loadtxt('planck_map.txt')/255.)"
      ],
      "execution_count": null,
      "outputs": []
    },
    {
      "cell_type": "markdown",
      "metadata": {
        "id": "D0xo9XqscbAT"
      },
      "source": [
        "We can plot these power spectra against each other to see what they look like."
      ]
    },
    {
      "cell_type": "code",
      "metadata": {
        "id": "g75HEEjNcaEo"
      },
      "source": [
        "fig, ax = plt.subplots()\n",
        "\n",
        "ls = power_0_02[:, 0]\n",
        "ax.plot(ls, power_0_02[:, 1], label='$\\Omega_b h^2 = 0.02$')\n",
        "ax.plot(ls, power_0_03[:, 1], label='$\\Omega_b h^2 = 0.03$')\n",
        "ax.plot(ls, power_0_04[:, 1], label='$\\Omega_b h^2 = 0.04$')\n",
        "ax.plot(ls, power_0_05[:, 1], label='$\\Omega_b h^2 = 0.05$')\n",
        "ax.set_xlabel('$l$')\n",
        "ax.set_ylabel('$l(l+1)C_l$')\n",
        "plt.legend()"
      ],
      "execution_count": null,
      "outputs": []
    },
    {
      "cell_type": "markdown",
      "metadata": {
        "id": "0wLTFPXScrMN"
      },
      "source": [
        "We can then use healpy's synfast function to generate sky maps for each of these spectra. First we will plot some higher resolution examples."
      ]
    },
    {
      "cell_type": "code",
      "metadata": {
        "id": "ieNeK2Inc8Ir"
      },
      "source": [
        "lmax = 2200\n",
        "nside = 512\n",
        "\n",
        "# Function to generate a map\n",
        "def generate_map(lmax, nside, power_spectrum):\n",
        "  cls_input = np.divide(power_spectrum[:, 1],\n",
        "                        power_spectrum[:, 0]*(power_spectrum[:, 0] +1))\n",
        "  cls = np.concatenate([np.zeros(2), cls_input])\n",
        "  map = hp.sphtfunc.synfast(cls, nside=nside, lmax=lmax, new=True)\n",
        "  return map\n",
        "\n",
        "# Plot a map for each of the spectra\n",
        "for spectrum in [power_0_02,  power_0_03, power_0_04, power_0_05]:\n",
        "  hp.mollview(generate_map(lmax, nside, spectrum), cmap=cmap)"
      ],
      "execution_count": null,
      "outputs": []
    },
    {
      "cell_type": "markdown",
      "metadata": {
        "id": "ikGI2BAcff4L"
      },
      "source": [
        "We can then generate some (lower) resolution maps for each of these spectra and save them to a file. We will generate 100 maps for each of the spectra."
      ]
    },
    {
      "cell_type": "code",
      "metadata": {
        "id": "Hq945geOfeXS"
      },
      "source": [
        "lmax = 2200\n",
        "nside = 64\n",
        "\n",
        "num_maps = 100\n",
        "num_spectra = 4\n",
        "num_pixels = hp.nside2npix(nside)\n",
        "\n",
        "# Initialise empty array that we will fill\n",
        "maps = np.empty((num_maps*num_spectra, num_pixels))\n",
        "\n",
        "# Generate maps\n",
        "i = 0  # index\n",
        "for spectrum in [power_0_02,  power_0_03, power_0_04, power_0_05]:\n",
        "  for n in range(num_maps):\n",
        "    maps[i] = generate_map(lmax, nside, spectrum)\n",
        "    i += 1\n",
        "  print('done spectrum')\n"
      ],
      "execution_count": null,
      "outputs": []
    },
    {
      "cell_type": "markdown",
      "metadata": {
        "id": "WWUaZwhBhX34"
      },
      "source": [
        "We will now have an array of shape (num_maps x num_spectra, num_pixels). We can reshape this into (num_maps x num_spectra, num_pixels, 1).\n"
      ]
    },
    {
      "cell_type": "code",
      "metadata": {
        "id": "iAs8E5KChmyf"
      },
      "source": [
        "maps = np.reshape(maps, (num_maps*num_spectra, num_pixels, 1))"
      ],
      "execution_count": null,
      "outputs": []
    },
    {
      "cell_type": "markdown",
      "metadata": {
        "id": "sa-Zxktqh_Rf"
      },
      "source": [
        "We can then save this to a file together with the y labels."
      ]
    },
    {
      "cell_type": "code",
      "metadata": {
        "id": "anNu39kviR7f"
      },
      "source": [
        "classes = np.concatenate([np.zeros(num_maps), np.ones(num_maps),\n",
        "                          np.ones(num_maps)*2, np.ones(num_maps)*3])\n",
        "\n",
        "np.savez_compressed('full_maps.npz', maps=maps, classes=classes)"
      ],
      "execution_count": null,
      "outputs": []
    },
    {
      "cell_type": "markdown",
      "metadata": {
        "id": "1Fkv31KnmMQK"
      },
      "source": [
        "### Using DeepSphere\n",
        "\n",
        "In this section we will experiment with the DeepSphere CNN."
      ]
    },
    {
      "cell_type": "code",
      "metadata": {
        "id": "gachUWHWmTJJ"
      },
      "source": [
        "# Load data\n",
        "data = np.load('full_maps.npz')"
      ],
      "execution_count": null,
      "outputs": []
    },
    {
      "cell_type": "markdown",
      "metadata": {
        "id": "MKv-7oshnvdq"
      },
      "source": [
        "We will first experiment with only two of the classes (0.2 and 0.5) to give the largest differences.\n",
        "\n",
        "Here we split our dataset into test and train sets."
      ]
    },
    {
      "cell_type": "code",
      "metadata": {
        "id": "zLl631coxxX0"
      },
      "source": [
        "from sklearn.model_selection import train_test_split\n",
        "x_raw = np.concatenate([data['maps'][:100], data['maps'][300:]])[..., np.newaxis]\n",
        "y_raw = np.concatenate([np.zeros(100), np.ones(100)])\n",
        "\n",
        "np.random.RandomState(11).shuffle(x_raw)\n",
        "np.random.RandomState(11).shuffle(y_raw)\n",
        "\n",
        "x_train, x_test, y_train, y_test = train_test_split(x_raw, y_raw, test_size=0.2,\n",
        "                                                    random_state=11)"
      ],
      "execution_count": null,
      "outputs": []
    },
    {
      "cell_type": "markdown",
      "metadata": {
        "id": "j8Q69mksx5ND"
      },
      "source": [
        "Here we will experiment with a basic DeepSphere CNN without using survey masks. The guide used for this section is the quick start tutorial on the DeepSphere repo.\n"
      ]
    },
    {
      "cell_type": "code",
      "metadata": {
        "id": "ft4DB-RaytrS"
      },
      "source": [
        "layers = [hp_layer.HealpyChebyshev(K=10, Fout=5, use_bias=True, use_bn=True, \n",
        "                                   activation=\"relu\"),\n",
        "          hp_layer.HealpyPool(p=1),\n",
        "          hp_layer.HealpyChebyshev(K=10, Fout=5, use_bias=True, use_bn=True, \n",
        "                                   activation=\"relu\"),\n",
        "          hp_layer.HealpyPool(p=1),\n",
        "          hp_layer.HealpyChebyshev(K=10, Fout=5, use_bias=True, use_bn=True, \n",
        "                                   activation=\"relu\"),\n",
        "          hp_layer.HealpyPool(p=1),\n",
        "          hp_layer.HealpyChebyshev(K=10, Fout=2),\n",
        "          tf.keras.layers.Lambda(lambda x: tf.nn.softmax(tf.reduce_mean(x, axis=1),\n",
        "                                                         axis=-1))]\n",
        "\n",
        "\n",
        "\n",
        "nside = 64\n",
        "indices = np.arange(hp.nside2npix(nside))\n",
        "\n",
        "tf.keras.backend.clear_session()\n",
        "model = HealpyGCNN(nside=nside, indices=indices, layers=layers, n_neighbors=20)\n",
        "batch_size = 16\n",
        "model.build(input_shape=(None, len(indices), 1))\n",
        "model.summary(110)\n",
        "\n",
        "model.compile(optimizer=tf.keras.optimizers.Adam(0.1),\n",
        "              loss=tf.keras.losses.SparseCategoricalCrossentropy(),\n",
        "              metrics=[tf.keras.metrics.SparseCategoricalAccuracy()],\n",
        ")\n"
      ],
      "execution_count": null,
      "outputs": []
    },
    {
      "cell_type": "markdown",
      "metadata": {
        "id": "6higdIsO6kqt"
      },
      "source": [
        "We can then train the model."
      ]
    },
    {
      "cell_type": "code",
      "metadata": {
        "id": "j-aybYaK6fBQ"
      },
      "source": [
        "history = model.fit(\n",
        "    x=x_train,\n",
        "    y=y_train,\n",
        "    batch_size=batch_size,\n",
        "    epochs=50,\n",
        "    validation_data=(x_test, y_test),\n",
        ")"
      ],
      "execution_count": null,
      "outputs": []
    },
    {
      "cell_type": "markdown",
      "metadata": {
        "id": "badiQS2i6nEl"
      },
      "source": [
        "Then plot the loss and accuracy."
      ]
    },
    {
      "cell_type": "code",
      "metadata": {
        "id": "bay3sFfoRmZc"
      },
      "source": [
        "plt.figure(figsize=(12,8))\n",
        "plt.plot(history.history[\"loss\"], label=\"training\")\n",
        "plt.plot(history.history[\"val_loss\"], label=\"validation\")\n",
        "plt.grid()\n",
        "plt.yscale(\"log\")\n",
        "plt.legend()\n",
        "plt.xlabel(\"Epoch\")\n",
        "plt.ylabel(\"Loss\")"
      ],
      "execution_count": null,
      "outputs": []
    },
    {
      "cell_type": "code",
      "metadata": {
        "id": "uIBWqBaiR1wP"
      },
      "source": [
        "plt.figure(figsize=(12,8))\n",
        "plt.plot(history.history['sparse_categorical_accuracy'], label=\"training\")\n",
        "plt.plot(history.history['val_sparse_categorical_accuracy'], label=\"validation\")\n",
        "plt.legend()\n",
        "plt.xlabel(\"Epoch\")\n",
        "plt.ylabel(\"Accuracy\")"
      ],
      "execution_count": null,
      "outputs": []
    }
  ]
}
