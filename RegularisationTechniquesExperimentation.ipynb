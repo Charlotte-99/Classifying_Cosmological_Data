{
  "nbformat": 4,
  "nbformat_minor": 0,
  "metadata": {
    "colab": {
      "name": "Copy of regularisation.ipynb",
      "provenance": [],
      "collapsed_sections": [],
      "include_colab_link": true
    },
    "kernelspec": {
      "name": "python3",
      "display_name": "Python 3"
    }
  },
  "cells": [
    {
      "cell_type": "markdown",
      "metadata": {
        "id": "view-in-github",
        "colab_type": "text"
      },
      "source": [
        "<a href=\"https://colab.research.google.com/github/Charlotte-99/Classifying_Cosmological_Data/blob/main/Copy_of_regularisation.ipynb\" target=\"_parent\"><img src=\"https://colab.research.google.com/assets/colab-badge.svg\" alt=\"Open In Colab\"/></a>"
      ]
    },
    {
      "cell_type": "markdown",
      "metadata": {
        "id": "f9lgu7n44eFs"
      },
      "source": [
        "**Regularisation**\n",
        "\n",
        "In this example you are given a dataset (MNIST) with a limited number of training examples (only 1000 compared to the usual 60,000). \n",
        "\n",
        "Your goal is to implement regularisation methods to achive the **lowest possible test loss using this dataset**. \n",
        "\n",
        "You should consider methods given in the lectures including:\n",
        "\n",
        "*   Data augmentation\n",
        "*   Early stopping\n",
        "*   L1/L2 penalty norms\n",
        "*   Dropout\n",
        "\n",
        "You are free to change the network architecture and model complexity, but the main purpose of the workshop is to investigate regularisation (next week you will look at CNN architectures in detail). \n",
        "\n",
        "You are also free to change the choice of optimiser, and other hyper-parameters such as the batch size.  \n"
      ]
    },
    {
      "cell_type": "code",
      "metadata": {
        "id": "cNviuTwum6vs"
      },
      "source": [
        "try:\n",
        "  # %tensorflow_version only exists in Colab.\n",
        "  %tensorflow_version 2.x\n",
        "except Exception:\n",
        "  pass"
      ],
      "execution_count": null,
      "outputs": []
    },
    {
      "cell_type": "code",
      "metadata": {
        "id": "ARZRYjHQnE-0"
      },
      "source": [
        "from __future__ import absolute_import, division, print_function, unicode_literals\n",
        "\n",
        "import tensorflow as tf\n",
        "from tensorflow.python.keras import regularizers\n",
        "\n",
        "from tensorflow.keras.layers import Dense, Flatten, Conv2D, Dropout\n",
        "from tensorflow.keras import Model\n",
        "from tensorflow.keras.preprocessing.image import ImageDataGenerator\n",
        "\n",
        "import matplotlib.pyplot as plt\n",
        "\n",
        "import numpy as np"
      ],
      "execution_count": null,
      "outputs": []
    },
    {
      "cell_type": "code",
      "metadata": {
        "id": "7I-MxTxAnH2d"
      },
      "source": [
        "tf.random.set_seed(1)"
      ],
      "execution_count": null,
      "outputs": []
    },
    {
      "cell_type": "code",
      "metadata": {
        "id": "cxO576eJnMXN",
        "colab": {
          "base_uri": "https://localhost:8080/"
        },
        "outputId": "1f2b2608-6724-4de5-e667-5d96984c30b4"
      },
      "source": [
        "print(tf.__version__)"
      ],
      "execution_count": null,
      "outputs": [
        {
          "output_type": "stream",
          "text": [
            "2.4.1\n"
          ],
          "name": "stdout"
        }
      ]
    },
    {
      "cell_type": "markdown",
      "metadata": {
        "id": "q4F_HTQpnvSk"
      },
      "source": [
        "First load the MNIST dataset and add a channels dimension (channels last convention)"
      ]
    },
    {
      "cell_type": "code",
      "metadata": {
        "id": "Twdc-t9FnN_9",
        "colab": {
          "base_uri": "https://localhost:8080/"
        },
        "outputId": "a9bde569-b102-4c2b-a86f-bae2d91397ef"
      },
      "source": [
        "mnist = tf.keras.datasets.mnist\n",
        "(x_train, y_train), (x_test, y_test) = mnist.load_data()\n",
        "\n",
        "x_train = x_train[..., tf.newaxis].astype(np.float32)\n",
        "x_test = x_test[..., tf.newaxis].astype(np.float32)\n",
        "\n",
        "img_rows = x_train.shape[1]\n",
        "img_cols = x_train.shape[2]"
      ],
      "execution_count": null,
      "outputs": [
        {
          "output_type": "stream",
          "text": [
            "Downloading data from https://storage.googleapis.com/tensorflow/tf-keras-datasets/mnist.npz\n",
            "11493376/11490434 [==============================] - 0s 0us/step\n"
          ],
          "name": "stdout"
        }
      ]
    },
    {
      "cell_type": "markdown",
      "metadata": {
        "id": "IEsWYkNz5Po7"
      },
      "source": [
        "Let's use a much smaller training dataset of 1000 examples so overfitting is more problematic"
      ]
    },
    {
      "cell_type": "code",
      "metadata": {
        "id": "Qzt-HoIo4yks",
        "colab": {
          "base_uri": "https://localhost:8080/"
        },
        "outputId": "4a85d6c9-4806-4c29-d9bf-4ca804a7cd98"
      },
      "source": [
        "n_train = 1000\n",
        "x_train = x_train[0:n_train, :]\n",
        "y_train = y_train[0:n_train]\n",
        "\n",
        "print(x_train.shape)\n",
        "print(x_test.shape)"
      ],
      "execution_count": null,
      "outputs": [
        {
          "output_type": "stream",
          "text": [
            "(1000, 28, 28, 1)\n",
            "(10000, 28, 28, 1)\n"
          ],
          "name": "stdout"
        }
      ]
    },
    {
      "cell_type": "code",
      "metadata": {
        "id": "x2JSWYGKjsPh"
      },
      "source": [
        "def plotImages(images_arr):\n",
        "    fig, axes = plt.subplots(1, 5, figsize=(15, 15))\n",
        "    axes = axes.flatten()\n",
        "    for img, ax in zip( images_arr, axes):\n",
        "        ax.imshow(np.squeeze(img))\n",
        "        ax.axis('off')\n",
        "    plt.tight_layout()\n",
        "    plt.show()"
      ],
      "execution_count": null,
      "outputs": []
    },
    {
      "cell_type": "markdown",
      "metadata": {
        "id": "oDfQh4AfoBAH"
      },
      "source": [
        "Let's visualise several training examples - to do this we use the keras ImageDataGenerator. We rescale images by 1/255 to normalise them in the range (0, 1)"
      ]
    },
    {
      "cell_type": "code",
      "metadata": {
        "id": "fuOz9BopjZPq",
        "colab": {
          "base_uri": "https://localhost:8080/",
          "height": 234
        },
        "outputId": "0ac7b7ac-a36f-4700-fcea-b293aa1790ea"
      },
      "source": [
        "image_generator = ImageDataGenerator(rescale=1./255) \n",
        "data_gen = image_generator.flow(x_train, y_train, batch_size=32) \n",
        "sample_images, sample_labels = next(data_gen)\n",
        "plotImages(sample_images[:5])"
      ],
      "execution_count": null,
      "outputs": [
        {
          "output_type": "display_data",
          "data": {
            "image/png": "[encoded data removed]",
            "text/plain": [
              "<Figure size 1080x1080 with 5 Axes>"
            ]
          },
          "metadata": {
            "tags": [],
            "needs_background": "light"
          }
        }
      ]
    },
    {
      "cell_type": "markdown",
      "metadata": {
        "id": "H8bStvJVoVlj"
      },
      "source": [
        "One regularisation method to deal with over-fitting is data augmentation. The image generator can apply various transformations to data - here we apply a random rotation of upto 20 degrees and visualise the same training example with different augmentations"
      ]
    },
    {
      "cell_type": "code",
      "metadata": {
        "id": "iz28zlncmIiP",
        "colab": {
          "base_uri": "https://localhost:8080/",
          "height": 234
        },
        "outputId": "e0d8c519-5ca8-48ab-8855-a11c90da1c5b"
      },
      "source": [
        "image_generator = ImageDataGenerator(rescale=1./255, \n",
        "                                     rotation_range=20) \n",
        "data_gen = image_generator.flow(x_train, y_train, batch_size=32) \n",
        "augmented_images = [data_gen[0][0][0] for i in range(5)]\n",
        "plotImages(augmented_images)"
      ],
      "execution_count": null,
      "outputs": [
        {
          "output_type": "display_data",
          "data": {
            "image/png": "[encoded data removed]",
            "text/plain": [
              "<Figure size 1080x1080 with 5 Axes>"
            ]
          },
          "metadata": {
            "tags": [],
            "needs_background": "light"
          }
        }
      ]
    },
    {
      "cell_type": "markdown",
      "metadata": {
        "id": "mIE6-wlA3J4h"
      },
      "source": [
        "Define a basic CNN with 32 convolutional filters using a 3x3 kernel, followed by a dense fully connected layer of 128 units and an output layer of 10 units with softmax activation "
      ]
    },
    {
      "cell_type": "code",
      "metadata": {
        "id": "ZKolHZQUL8-4"
      },
      "source": [
        "class BasicCNN(Model):\n",
        "  def __init__(self):\n",
        "    super(BasicCNN, self).__init__()\n",
        "    self.conv1 = Conv2D(32, 3, activation='relu')\n",
        "    self.flatten = Flatten()\n",
        "    self.d1 = Dense(128, activation='relu')\n",
        "    self.d2 = Dense(10, activation='softmax')\n",
        "\n",
        "  def call(self, x):\n",
        "    x = self.conv1(x)\n",
        "    x = self.flatten(x)\n",
        "    x = self.d1(x)\n",
        "    return self.d2(x)"
      ],
      "execution_count": null,
      "outputs": []
    },
    {
      "cell_type": "markdown",
      "metadata": {
        "id": "BuhNDi134B2G"
      },
      "source": [
        "Main training routine - uses the more detailed Gradient Tape API to iterate over the dataset and update the weights"
      ]
    },
    {
      "cell_type": "code",
      "metadata": {
        "id": "MZH8jdqKohiU"
      },
      "source": [
        "def trainer(cls, train_image_generator, test_image_generator, \n",
        "            verbose=False, batch_size=32, max_epochs=5, early_stopping=False,\n",
        "            patience=10):\n",
        "  \n",
        "  model = cls()\n",
        "\n",
        "  train_data_gen = train_image_generator.flow(x_train, y_train, \n",
        "                                              batch_size=batch_size) \n",
        "\n",
        "  test_data_gen = test_image_generator.flow(x_test, y_test, \n",
        "                                              batch_size=batch_size) \n",
        "\n",
        "  loss_object = tf.keras.losses.SparseCategoricalCrossentropy()\n",
        "  optimizer = tf.keras.optimizers.Adam()\n",
        "\n",
        "  train_loss = tf.keras.metrics.Mean(name='train_loss')\n",
        "  train_accuracy = tf.keras.metrics.SparseCategoricalAccuracy(\n",
        "      name='train_accuracy')\n",
        "\n",
        "  test_loss = tf.keras.metrics.Mean(name='test_loss')\n",
        "  test_accuracy = tf.keras.metrics.SparseCategoricalAccuracy(\n",
        "      name='test_accuracy')\n",
        "  \n",
        "  #Variables stored for use in plotting results\n",
        "  global stored_test_loss\n",
        "  global stored_train_loss\n",
        "  global epoch_number\n",
        "\n",
        "  stored_test_loss = []\n",
        "  stored_train_loss = []\n",
        "  epoch_number = []\n",
        "\n",
        "  #Count for early stopping procedure\n",
        "  final_test_loss = np.inf\n",
        "  count = 0\n",
        "\n",
        "  @tf.function\n",
        "  def train_step(images, labels):\n",
        "    with tf.GradientTape() as tape:\n",
        "      predictions = model(images, training=True)\n",
        "      loss = loss_object(labels, predictions)\n",
        "    gradients = tape.gradient(loss, model.trainable_variables)\n",
        "    optimizer.apply_gradients(zip(gradients, model.trainable_variables))\n",
        "    train_loss(loss)\n",
        "    train_accuracy(labels, predictions)\n",
        "\n",
        "  @tf.function\n",
        "  def test_step(images, labels):\n",
        "    predictions = model(images, training=False)\n",
        "    t_loss = loss_object(labels, predictions)\n",
        "    test_loss(t_loss)\n",
        "    test_accuracy(labels, predictions)\n",
        "\n",
        "  for epoch in range(max_epochs):\n",
        "    # Reset the metrics at the start of the next epoch\n",
        "    train_loss.reset_states()\n",
        "    train_accuracy.reset_states()\n",
        "    test_loss.reset_states()\n",
        "    test_accuracy.reset_states()\n",
        "\n",
        "    batches = 0\n",
        "    for images, labels in train_data_gen:\n",
        "      train_step(images, labels)\n",
        "      batches += 1\n",
        "      if batches >= len(x_train) / batch_size:\n",
        "        break\n",
        "\n",
        "    batches = 0\n",
        "    for images, labels in test_data_gen:\n",
        "      test_step(images, labels)\n",
        "      batches += 1\n",
        "      if batches >= len(x_test) / batch_size:\n",
        "        break\n",
        "\n",
        "    epoch_number.append(epoch+1)\n",
        "    stored_test_loss.append(test_loss.result())\n",
        "    stored_train_loss.append(train_loss.result())\n",
        "\n",
        "    if verbose:\n",
        "      template = 'Epoch {}, Loss: {}, Accuracy: {}, Test Loss: {}, Test Accuracy: {}'\n",
        "      print(template.format(epoch+1,\n",
        "                            train_loss.result(),\n",
        "                            train_accuracy.result()*100,\n",
        "                            test_loss.result(),\n",
        "                            test_accuracy.result()*100))\n",
        "      \n",
        "    #Early stopping procedure\n",
        "    if early_stopping:\n",
        "      if test_loss.result().numpy() < final_test_loss:\n",
        "        final_test_loss = test_loss.result().numpy()\n",
        "        count = 0\n",
        "      count += 1\n",
        "      if count > patience:\n",
        "        break\n",
        "    else:\n",
        "      final_test_loss = test_loss.result().numpy()\n",
        "\n",
        "\n",
        "  return final_test_loss"
      ],
      "execution_count": null,
      "outputs": []
    },
    {
      "cell_type": "markdown",
      "metadata": {
        "id": "BBSBEZftgDsL"
      },
      "source": [
        "Baseline run with no regularisation"
      ]
    },
    {
      "cell_type": "code",
      "metadata": {
        "id": "LkemC6SvTLOH",
        "colab": {
          "base_uri": "https://localhost:8080/"
        },
        "outputId": "033bb215-df59-4116-b014-9c1d96e1efe5"
      },
      "source": [
        "train_image_generator = ImageDataGenerator(rescale=1./255) \n",
        "test_image_generator = ImageDataGenerator(rescale=1./255) \n",
        "final_test_loss = trainer(BasicCNN, train_image_generator, test_image_generator, \n",
        "                          verbose=True, max_epochs=20)\n",
        "print('Final test loss:', final_test_loss)"
      ],
      "execution_count": null,
      "outputs": [
        {
          "output_type": "stream",
          "text": [
            "Epoch 1, Loss: 0.9098917841911316, Accuracy: 71.9000015258789, Test Loss: 0.5525864362716675, Test Accuracy: 82.66000366210938\n",
            "Epoch 2, Loss: 0.29125910997390747, Accuracy: 91.79999542236328, Test Loss: 0.44551023840904236, Test Accuracy: 85.57999420166016\n",
            "Epoch 3, Loss: 0.15443973243236542, Accuracy: 94.9000015258789, Test Loss: 0.4128546714782715, Test Accuracy: 87.7300033569336\n",
            "Epoch 4, Loss: 0.0735902190208435, Accuracy: 98.4000015258789, Test Loss: 0.3932322561740875, Test Accuracy: 88.77000427246094\n",
            "Epoch 5, Loss: 0.03226456046104431, Accuracy: 99.4000015258789, Test Loss: 0.40493279695510864, Test Accuracy: 89.17000579833984\n",
            "Epoch 6, Loss: 0.02335136942565441, Accuracy: 99.5, Test Loss: 0.43074142932891846, Test Accuracy: 88.58000183105469\n",
            "Epoch 7, Loss: 0.012759704142808914, Accuracy: 99.80000305175781, Test Loss: 0.46199727058410645, Test Accuracy: 87.9800033569336\n",
            "Epoch 8, Loss: 0.011929976753890514, Accuracy: 99.9000015258789, Test Loss: 0.41806283593177795, Test Accuracy: 89.41000366210938\n",
            "Epoch 9, Loss: 0.004501541145145893, Accuracy: 100.0, Test Loss: 0.4235462546348572, Test Accuracy: 89.6500015258789\n",
            "Epoch 10, Loss: 0.002550202887505293, Accuracy: 100.0, Test Loss: 0.42990946769714355, Test Accuracy: 89.56999969482422\n",
            "Epoch 11, Loss: 0.0019372346578165889, Accuracy: 100.0, Test Loss: 0.437862753868103, Test Accuracy: 89.6500015258789\n",
            "Epoch 12, Loss: 0.0014201117446646094, Accuracy: 100.0, Test Loss: 0.44296178221702576, Test Accuracy: 89.61000061035156\n",
            "Epoch 13, Loss: 0.0012019203277304769, Accuracy: 100.0, Test Loss: 0.4457985758781433, Test Accuracy: 89.70000457763672\n",
            "Epoch 14, Loss: 0.0010276960674673319, Accuracy: 100.0, Test Loss: 0.45210281014442444, Test Accuracy: 89.75\n",
            "Epoch 15, Loss: 0.0008829262224026024, Accuracy: 100.0, Test Loss: 0.45776185393333435, Test Accuracy: 89.7800064086914\n",
            "Epoch 16, Loss: 0.0007841493934392929, Accuracy: 100.0, Test Loss: 0.4616943597793579, Test Accuracy: 89.7300033569336\n",
            "Epoch 17, Loss: 0.0007068831473588943, Accuracy: 100.0, Test Loss: 0.46660947799682617, Test Accuracy: 89.76000213623047\n",
            "Epoch 18, Loss: 0.0006172392168082297, Accuracy: 100.0, Test Loss: 0.4682789742946625, Test Accuracy: 89.83000183105469\n",
            "Epoch 19, Loss: 0.0005693786661140621, Accuracy: 100.0, Test Loss: 0.4737083613872528, Test Accuracy: 89.83000183105469\n",
            "Epoch 20, Loss: 0.0005164238391444087, Accuracy: 100.0, Test Loss: 0.4751547574996948, Test Accuracy: 89.84000396728516\n",
            "Final test loss: 0.47515476\n"
          ],
          "name": "stdout"
        }
      ]
    },
    {
      "cell_type": "markdown",
      "metadata": {
        "id": "8vLcZGx0-nu3"
      },
      "source": [
        "Run with early stopping implemented, patience set to 10"
      ]
    },
    {
      "cell_type": "code",
      "metadata": {
        "colab": {
          "base_uri": "https://localhost:8080/"
        },
        "id": "JNbdTuMP_2-c",
        "outputId": "aece2a5e-8c75-4701-b335-01d088c1ae3a"
      },
      "source": [
        "train_image_generator = ImageDataGenerator(rescale=1./255) \n",
        "test_image_generator = ImageDataGenerator(rescale=1./255) \n",
        "final_test_loss = trainer(BasicCNN, train_image_generator, test_image_generator, \n",
        "                          verbose=True, max_epochs=50, early_stopping=True, \n",
        "                          patience=10)\n",
        "print('Final test loss:', final_test_loss)"
      ],
      "execution_count": null,
      "outputs": [
        {
          "output_type": "stream",
          "text": [
            "Epoch 1, Loss: 0.8712573647499084, Accuracy: 72.0999984741211, Test Loss: 0.5114477276802063, Test Accuracy: 83.27000427246094\n",
            "Epoch 2, Loss: 0.2919911742210388, Accuracy: 91.69999694824219, Test Loss: 0.38079550862312317, Test Accuracy: 88.26000213623047\n",
            "Epoch 3, Loss: 0.136837437748909, Accuracy: 96.80000305175781, Test Loss: 0.3725722134113312, Test Accuracy: 89.20000457763672\n",
            "Epoch 4, Loss: 0.0856371745467186, Accuracy: 97.79999542236328, Test Loss: 0.45062392950057983, Test Accuracy: 87.43000030517578\n",
            "Epoch 5, Loss: 0.04413197934627533, Accuracy: 99.5, Test Loss: 0.3708578050136566, Test Accuracy: 89.4000015258789\n",
            "Epoch 6, Loss: 0.015953322872519493, Accuracy: 99.9000015258789, Test Loss: 0.38121578097343445, Test Accuracy: 89.61000061035156\n",
            "Epoch 7, Loss: 0.00858557689934969, Accuracy: 100.0, Test Loss: 0.3959033489227295, Test Accuracy: 89.9800033569336\n",
            "Epoch 8, Loss: 0.004672711715102196, Accuracy: 100.0, Test Loss: 0.39677703380584717, Test Accuracy: 90.16000366210938\n",
            "Epoch 9, Loss: 0.0034150416031479836, Accuracy: 100.0, Test Loss: 0.4019826054573059, Test Accuracy: 90.25\n",
            "Epoch 10, Loss: 0.002454307395964861, Accuracy: 100.0, Test Loss: 0.4200250208377838, Test Accuracy: 89.91000366210938\n",
            "Epoch 11, Loss: 0.0020867246203124523, Accuracy: 100.0, Test Loss: 0.42329713702201843, Test Accuracy: 90.09000396728516\n",
            "Epoch 12, Loss: 0.0016388414660468698, Accuracy: 100.0, Test Loss: 0.42739009857177734, Test Accuracy: 90.08000183105469\n",
            "Epoch 13, Loss: 0.0013549244031310081, Accuracy: 100.0, Test Loss: 0.4336135983467102, Test Accuracy: 90.11000061035156\n",
            "Epoch 14, Loss: 0.00117958034388721, Accuracy: 100.0, Test Loss: 0.44052061438560486, Test Accuracy: 90.09000396728516\n",
            "Epoch 15, Loss: 0.0010364906629547477, Accuracy: 100.0, Test Loss: 0.44398361444473267, Test Accuracy: 90.09000396728516\n",
            "Final test loss: 0.3708578\n"
          ],
          "name": "stdout"
        }
      ]
    },
    {
      "cell_type": "markdown",
      "metadata": {
        "id": "XRsqKXN1DF4T"
      },
      "source": [
        "Run with early stopping and data augmentation experimentation"
      ]
    },
    {
      "cell_type": "code",
      "metadata": {
        "colab": {
          "base_uri": "https://localhost:8080/"
        },
        "id": "v89jvW0_DEB0",
        "outputId": "58903ec2-39b6-48ac-fa8f-4c4f965a2bd7"
      },
      "source": [
        "train_image_generator = ImageDataGenerator(rescale=1./255, \n",
        "                                           rotation_range = 25,\n",
        "                                           zoom_range=0.3,\n",
        "                                           height_shift_range=0.2) \n",
        "test_image_generator = ImageDataGenerator(rescale=1./255) \n",
        "final_test_loss = trainer(BasicCNN, train_image_generator, test_image_generator, \n",
        "                          verbose=True, max_epochs=50, early_stopping=True, \n",
        "                          patience=10)\n",
        "print('Final test loss:', final_test_loss)"
      ],
      "execution_count": null,
      "outputs": [
        {
          "output_type": "stream",
          "text": [
            "Epoch 1, Loss: 1.9299007654190063, Accuracy: 32.900001525878906, Test Loss: 1.294492483139038, Test Accuracy: 58.79999923706055\n",
            "Epoch 2, Loss: 1.5481070280075073, Accuracy: 48.5, Test Loss: 1.0227113962173462, Test Accuracy: 68.06999969482422\n",
            "Epoch 3, Loss: 1.2500030994415283, Accuracy: 60.5, Test Loss: 0.7819686532020569, Test Accuracy: 74.70999908447266\n",
            "Epoch 4, Loss: 1.0463765859603882, Accuracy: 67.5999984741211, Test Loss: 0.755093514919281, Test Accuracy: 74.23999786376953\n",
            "Epoch 5, Loss: 0.9163070321083069, Accuracy: 72.5999984741211, Test Loss: 0.613361656665802, Test Accuracy: 81.80000305175781\n",
            "Epoch 6, Loss: 0.7765957117080688, Accuracy: 75.4000015258789, Test Loss: 0.44531649351119995, Test Accuracy: 86.77999877929688\n",
            "Epoch 7, Loss: 0.70326167345047, Accuracy: 78.19999694824219, Test Loss: 0.3978829085826874, Test Accuracy: 88.16000366210938\n",
            "Epoch 8, Loss: 0.6024054288864136, Accuracy: 81.9000015258789, Test Loss: 0.3793199360370636, Test Accuracy: 88.6500015258789\n",
            "Epoch 9, Loss: 0.584845244884491, Accuracy: 81.0999984741211, Test Loss: 0.34619107842445374, Test Accuracy: 89.13999938964844\n",
            "Epoch 10, Loss: 0.5249983668327332, Accuracy: 84.5, Test Loss: 0.3759315311908722, Test Accuracy: 87.56999969482422\n",
            "Epoch 11, Loss: 0.5387823581695557, Accuracy: 82.80000305175781, Test Loss: 0.3090587854385376, Test Accuracy: 90.29000091552734\n",
            "Epoch 12, Loss: 0.47153744101524353, Accuracy: 84.0, Test Loss: 0.28048765659332275, Test Accuracy: 90.81999969482422\n",
            "Epoch 13, Loss: 0.5022264719009399, Accuracy: 84.30000305175781, Test Loss: 0.2679136097431183, Test Accuracy: 91.69999694824219\n",
            "Epoch 14, Loss: 0.4126402735710144, Accuracy: 87.30000305175781, Test Loss: 0.27172884345054626, Test Accuracy: 91.90999603271484\n",
            "Epoch 15, Loss: 0.45108500123023987, Accuracy: 85.5, Test Loss: 0.30013155937194824, Test Accuracy: 91.15999603271484\n",
            "Epoch 16, Loss: 0.39664900302886963, Accuracy: 88.0999984741211, Test Loss: 0.25486889481544495, Test Accuracy: 92.05999755859375\n",
            "Epoch 17, Loss: 0.45841675996780396, Accuracy: 87.0, Test Loss: 0.27332738041877747, Test Accuracy: 91.61000061035156\n",
            "Epoch 18, Loss: 0.3759169578552246, Accuracy: 88.9000015258789, Test Loss: 0.23849867284297943, Test Accuracy: 92.68000030517578\n",
            "Epoch 19, Loss: 0.3597199022769928, Accuracy: 89.30000305175781, Test Loss: 0.2303353250026703, Test Accuracy: 92.4000015258789\n",
            "Epoch 20, Loss: 0.28873687982559204, Accuracy: 92.4000015258789, Test Loss: 0.20864638686180115, Test Accuracy: 93.45999908447266\n",
            "Epoch 21, Loss: 0.3362971544265747, Accuracy: 89.30000305175781, Test Loss: 0.20668475329875946, Test Accuracy: 93.66000366210938\n",
            "Epoch 22, Loss: 0.34275901317596436, Accuracy: 89.9000015258789, Test Loss: 0.2093949019908905, Test Accuracy: 93.31999969482422\n",
            "Epoch 23, Loss: 0.33937880396842957, Accuracy: 89.9000015258789, Test Loss: 0.2085026502609253, Test Accuracy: 93.51000213623047\n",
            "Epoch 24, Loss: 0.342367947101593, Accuracy: 89.5, Test Loss: 0.2176213562488556, Test Accuracy: 93.0199966430664\n",
            "Epoch 25, Loss: 0.3033798038959503, Accuracy: 91.69999694824219, Test Loss: 0.20767326653003693, Test Accuracy: 93.25\n",
            "Epoch 26, Loss: 0.2940128743648529, Accuracy: 91.39999389648438, Test Loss: 0.23136362433433533, Test Accuracy: 92.11000061035156\n",
            "Epoch 27, Loss: 0.32290446758270264, Accuracy: 90.30000305175781, Test Loss: 0.20031768083572388, Test Accuracy: 93.55999755859375\n",
            "Epoch 28, Loss: 0.3041440546512604, Accuracy: 90.5999984741211, Test Loss: 0.21733404695987701, Test Accuracy: 93.04000091552734\n",
            "Epoch 29, Loss: 0.32573574781417847, Accuracy: 90.20000457763672, Test Loss: 0.21517245471477509, Test Accuracy: 93.0999984741211\n",
            "Epoch 30, Loss: 0.2350771129131317, Accuracy: 92.5, Test Loss: 0.1861613690853119, Test Accuracy: 93.80000305175781\n",
            "Epoch 31, Loss: 0.2684803605079651, Accuracy: 92.29999542236328, Test Loss: 0.1678282618522644, Test Accuracy: 94.6300048828125\n",
            "Epoch 32, Loss: 0.272305965423584, Accuracy: 91.5, Test Loss: 0.1974194496870041, Test Accuracy: 93.87000274658203\n",
            "Epoch 33, Loss: 0.2790335714817047, Accuracy: 91.29999542236328, Test Loss: 0.19109830260276794, Test Accuracy: 94.08000183105469\n",
            "Epoch 34, Loss: 0.23502011597156525, Accuracy: 92.79999542236328, Test Loss: 0.21447329223155975, Test Accuracy: 93.3499984741211\n",
            "Epoch 35, Loss: 0.2699950635433197, Accuracy: 91.5999984741211, Test Loss: 0.20887579023838043, Test Accuracy: 93.18000030517578\n",
            "Epoch 36, Loss: 0.23544487357139587, Accuracy: 92.69999694824219, Test Loss: 0.19761435687541962, Test Accuracy: 93.8499984741211\n",
            "Epoch 37, Loss: 0.2591599225997925, Accuracy: 90.9000015258789, Test Loss: 0.1911085993051529, Test Accuracy: 93.98999786376953\n",
            "Epoch 38, Loss: 0.2455635815858841, Accuracy: 91.19999694824219, Test Loss: 0.18630826473236084, Test Accuracy: 94.04000091552734\n",
            "Epoch 39, Loss: 0.2341814935207367, Accuracy: 92.0999984741211, Test Loss: 0.1801130473613739, Test Accuracy: 94.16999816894531\n",
            "Epoch 40, Loss: 0.18341460824012756, Accuracy: 93.80000305175781, Test Loss: 0.16063280403614044, Test Accuracy: 95.02000427246094\n",
            "Epoch 41, Loss: 0.2250409573316574, Accuracy: 93.69999694824219, Test Loss: 0.15601710975170135, Test Accuracy: 95.27000427246094\n",
            "Epoch 42, Loss: 0.22959959506988525, Accuracy: 92.69999694824219, Test Loss: 0.17539994418621063, Test Accuracy: 94.44000244140625\n",
            "Epoch 43, Loss: 0.21096695959568024, Accuracy: 93.30000305175781, Test Loss: 0.178947314620018, Test Accuracy: 94.29000091552734\n",
            "Epoch 44, Loss: 0.22605860233306885, Accuracy: 93.5, Test Loss: 0.16506046056747437, Test Accuracy: 94.58000183105469\n",
            "Epoch 45, Loss: 0.22238504886627197, Accuracy: 92.9000015258789, Test Loss: 0.17419852316379547, Test Accuracy: 94.62000274658203\n",
            "Epoch 46, Loss: 0.2161269634962082, Accuracy: 93.19999694824219, Test Loss: 0.1635926514863968, Test Accuracy: 94.86000061035156\n",
            "Epoch 47, Loss: 0.19546855986118317, Accuracy: 93.69999694824219, Test Loss: 0.17994758486747742, Test Accuracy: 94.41999816894531\n",
            "Epoch 48, Loss: 0.19587600231170654, Accuracy: 93.4000015258789, Test Loss: 0.16546690464019775, Test Accuracy: 94.79000091552734\n",
            "Epoch 49, Loss: 0.22066673636436462, Accuracy: 93.0999984741211, Test Loss: 0.16362039744853973, Test Accuracy: 94.69000244140625\n",
            "Epoch 50, Loss: 0.20027801394462585, Accuracy: 94.0999984741211, Test Loss: 0.194543719291687, Test Accuracy: 93.87999725341797\n",
            "Final test loss: 0.15601711\n"
          ],
          "name": "stdout"
        }
      ]
    },
    {
      "cell_type": "markdown",
      "metadata": {
        "id": "r4_pdPSxG24j"
      },
      "source": [
        "Experimenting with changing batch size\n"
      ]
    },
    {
      "cell_type": "code",
      "metadata": {
        "colab": {
          "base_uri": "https://localhost:8080/"
        },
        "id": "j5nm0lCWG9Ip",
        "outputId": "1c86c2a9-fc12-47ee-8887-916df3a3d6e6"
      },
      "source": [
        "train_image_generator = ImageDataGenerator(rescale=1./255) \n",
        "test_image_generator = ImageDataGenerator(rescale=1./255) \n",
        "final_test_loss = trainer(BasicCNN, train_image_generator, test_image_generator, \n",
        "                          verbose=True, batch_size=5, max_epochs=50, early_stopping=True, \n",
        "                          patience=10)\n",
        "print('Final test loss:', final_test_loss)"
      ],
      "execution_count": null,
      "outputs": [
        {
          "output_type": "stream",
          "text": [
            "Epoch 1, Loss: 0.744055986404419, Accuracy: 76.5999984741211, Test Loss: 0.5395098328590393, Test Accuracy: 83.5300064086914\n",
            "Epoch 2, Loss: 0.21507488191127777, Accuracy: 93.5, Test Loss: 0.5136130452156067, Test Accuracy: 83.60000610351562\n",
            "Epoch 3, Loss: 0.0689547210931778, Accuracy: 97.89999389648438, Test Loss: 0.45911794900894165, Test Accuracy: 86.23999786376953\n",
            "Epoch 4, Loss: 0.02017792873084545, Accuracy: 99.80000305175781, Test Loss: 0.37629374861717224, Test Accuracy: 90.18000030517578\n",
            "Epoch 5, Loss: 0.005205707624554634, Accuracy: 100.0, Test Loss: 0.3794727623462677, Test Accuracy: 90.5\n",
            "Epoch 6, Loss: 0.0015026138862594962, Accuracy: 100.0, Test Loss: 0.3919656276702881, Test Accuracy: 90.70999908447266\n",
            "Epoch 7, Loss: 0.0008829007856547832, Accuracy: 100.0, Test Loss: 0.40422722697257996, Test Accuracy: 90.66999816894531\n",
            "Epoch 8, Loss: 0.0006179864867590368, Accuracy: 100.0, Test Loss: 0.41576698422431946, Test Accuracy: 90.73999786376953\n",
            "Epoch 9, Loss: 0.00045602821046486497, Accuracy: 100.0, Test Loss: 0.4272369146347046, Test Accuracy: 90.54000091552734\n",
            "Epoch 10, Loss: 0.00035711927921511233, Accuracy: 100.0, Test Loss: 0.4332275092601776, Test Accuracy: 90.73999786376953\n",
            "Epoch 11, Loss: 0.0002777684712782502, Accuracy: 100.0, Test Loss: 0.43924134969711304, Test Accuracy: 90.72000122070312\n",
            "Epoch 12, Loss: 0.00020871464221272618, Accuracy: 100.0, Test Loss: 0.4490991234779358, Test Accuracy: 90.68000030517578\n",
            "Epoch 13, Loss: 0.00014207058120518923, Accuracy: 100.0, Test Loss: 0.45757392048835754, Test Accuracy: 90.69000244140625\n",
            "Epoch 14, Loss: 9.190504351863638e-05, Accuracy: 100.0, Test Loss: 0.47571346163749695, Test Accuracy: 90.52000427246094\n",
            "Final test loss: 0.37629375\n"
          ],
          "name": "stdout"
        }
      ]
    },
    {
      "cell_type": "markdown",
      "metadata": {
        "id": "TZI5aDGsG9nn"
      },
      "source": [
        "Experimenting with L1/L2 regularisation - after experimenting with this part, rerun code defining the oribinal BasicCNN function to recover original results"
      ]
    },
    {
      "cell_type": "code",
      "metadata": {
        "colab": {
          "base_uri": "https://localhost:8080/"
        },
        "id": "nSygSEFcHB6u",
        "outputId": "027cb9b6-a14e-4ec1-b37f-b64e4d79b981"
      },
      "source": [
        "\n",
        "class BasicCNN(Model):\n",
        "  def __init__(self):\n",
        "    super(BasicCNN, self).__init__()\n",
        "    self.conv1 = Conv2D(32, 3, activation='relu', kernel_regularizer=regularizers.l2(1))\n",
        "    self.flatten = Flatten()\n",
        "    self.d1 = Dense(128, activation='relu', kernel_regularizer=regularizers.l2(1))\n",
        "    self.d2 = Dense(10, activation='softmax', kernel_regularizer=regularizers.l2(1))\n",
        "\n",
        "  def call(self, x):\n",
        "    x = self.conv1(x)\n",
        "    x = self.flatten(x)\n",
        "    x = self.d1(x)\n",
        "    return self.d2(x)\n",
        "\n",
        "train_image_generator = ImageDataGenerator(rescale=1./255) \n",
        "test_image_generator = ImageDataGenerator(rescale=1./255) \n",
        "final_test_loss = trainer(BasicCNN, train_image_generator, test_image_generator, \n",
        "                          verbose=True, max_epochs=50, early_stopping=True, \n",
        "                          patience=20)\n",
        "print('Final test loss:', final_test_loss)"
      ],
      "execution_count": null,
      "outputs": [
        {
          "output_type": "stream",
          "text": [
            "Epoch 1, Loss: 0.9736719131469727, Accuracy: 70.80000305175781, Test Loss: 0.5470069050788879, Test Accuracy: 81.2699966430664\n",
            "Epoch 2, Loss: 0.2621080279350281, Accuracy: 92.19999694824219, Test Loss: 0.38493525981903076, Test Accuracy: 88.34000396728516\n",
            "Epoch 3, Loss: 0.12251728773117065, Accuracy: 96.4000015258789, Test Loss: 0.44464173913002014, Test Accuracy: 86.91999816894531\n",
            "Epoch 4, Loss: 0.057688966393470764, Accuracy: 98.79999542236328, Test Loss: 0.41482704877853394, Test Accuracy: 88.09000396728516\n",
            "Epoch 5, Loss: 0.025317542254924774, Accuracy: 99.80000305175781, Test Loss: 0.4118964970111847, Test Accuracy: 88.84000396728516\n",
            "Epoch 6, Loss: 0.010869738645851612, Accuracy: 100.0, Test Loss: 0.413388192653656, Test Accuracy: 89.4000015258789\n",
            "Epoch 7, Loss: 0.006387119181454182, Accuracy: 100.0, Test Loss: 0.42606112360954285, Test Accuracy: 89.4800033569336\n",
            "Epoch 8, Loss: 0.004253786988556385, Accuracy: 100.0, Test Loss: 0.44326767325401306, Test Accuracy: 89.24000549316406\n",
            "Epoch 9, Loss: 0.0030492879450321198, Accuracy: 100.0, Test Loss: 0.4502905309200287, Test Accuracy: 89.3800048828125\n",
            "Epoch 10, Loss: 0.002569810254499316, Accuracy: 100.0, Test Loss: 0.4554141163825989, Test Accuracy: 89.3800048828125\n",
            "Epoch 11, Loss: 0.0020388246048241854, Accuracy: 100.0, Test Loss: 0.4635860025882721, Test Accuracy: 89.33000183105469\n",
            "Epoch 12, Loss: 0.0017092382768169045, Accuracy: 100.0, Test Loss: 0.4770486354827881, Test Accuracy: 89.31999969482422\n",
            "Epoch 13, Loss: 0.0014628882054239511, Accuracy: 100.0, Test Loss: 0.47448721528053284, Test Accuracy: 89.44000244140625\n",
            "Epoch 14, Loss: 0.0012416414683684707, Accuracy: 100.0, Test Loss: 0.48283472657203674, Test Accuracy: 89.36000061035156\n",
            "Epoch 15, Loss: 0.0010629266034811735, Accuracy: 100.0, Test Loss: 0.4865596890449524, Test Accuracy: 89.5\n",
            "Epoch 16, Loss: 0.0009580565965734422, Accuracy: 100.0, Test Loss: 0.4911183714866638, Test Accuracy: 89.45000457763672\n",
            "Epoch 17, Loss: 0.0008313358994200826, Accuracy: 100.0, Test Loss: 0.4998256266117096, Test Accuracy: 89.45000457763672\n",
            "Epoch 18, Loss: 0.0007487002876587212, Accuracy: 100.0, Test Loss: 0.5033850073814392, Test Accuracy: 89.54000091552734\n",
            "Epoch 19, Loss: 0.0006751309847459197, Accuracy: 100.0, Test Loss: 0.504802405834198, Test Accuracy: 89.43000030517578\n",
            "Epoch 20, Loss: 0.0006186997634358704, Accuracy: 100.0, Test Loss: 0.5095328688621521, Test Accuracy: 89.54000091552734\n",
            "Epoch 21, Loss: 0.0005606471677310765, Accuracy: 100.0, Test Loss: 0.5133471488952637, Test Accuracy: 89.52999877929688\n",
            "Epoch 22, Loss: 0.0005110518541187048, Accuracy: 100.0, Test Loss: 0.5168627500534058, Test Accuracy: 89.52000427246094\n",
            "Final test loss: 0.38493526\n"
          ],
          "name": "stdout"
        }
      ]
    },
    {
      "cell_type": "markdown",
      "metadata": {
        "id": "iJSK-beyHCbD"
      },
      "source": [
        "Experimenting with dropout layers"
      ]
    },
    {
      "cell_type": "code",
      "metadata": {
        "colab": {
          "base_uri": "https://localhost:8080/"
        },
        "id": "g7H9UUewHFrh",
        "outputId": "c8eaa4aa-a5b7-4ca3-a055-ada793a5e807"
      },
      "source": [
        "class BasicCNN(Model):\n",
        "  def __init__(self):\n",
        "    super(BasicCNN, self).__init__()\n",
        "    self.conv1 = Conv2D(32, 3, activation='relu')\n",
        "    self.drop1 = Dropout(0.25)\n",
        "    self.flatten = Flatten()\n",
        "    self.d1 = Dense(128, activation='relu')\n",
        "    self.drop2 = Dropout(0.4)\n",
        "    self.d2 = Dense(10, activation='softmax')\n",
        "\n",
        "  def call(self, x):\n",
        "    x = self.conv1(x)\n",
        "    x = self.drop1(x)\n",
        "    x = self.flatten(x)\n",
        "    x = self.d1(x)\n",
        "    x = self.drop2(x)\n",
        "    return self.d2(x)\n",
        "\n",
        "train_image_generator = ImageDataGenerator(rescale=1./255) \n",
        "test_image_generator = ImageDataGenerator(rescale=1./255) \n",
        "final_test_loss = trainer(BasicCNN, train_image_generator, test_image_generator, \n",
        "                          verbose=True, max_epochs=50, early_stopping=True, \n",
        "                          patience=10)\n",
        "print('Final test loss:', final_test_loss)"
      ],
      "execution_count": null,
      "outputs": [
        {
          "output_type": "stream",
          "text": [
            "Epoch 1, Loss: 1.1187340021133423, Accuracy: 64.0999984741211, Test Loss: 0.5200530886650085, Test Accuracy: 83.71000671386719\n",
            "Epoch 2, Loss: 0.5025155544281006, Accuracy: 85.29999542236328, Test Loss: 0.42437323927879333, Test Accuracy: 87.76000213623047\n",
            "Epoch 3, Loss: 0.3255288898944855, Accuracy: 91.5999984741211, Test Loss: 0.36504822969436646, Test Accuracy: 89.3800048828125\n",
            "Epoch 4, Loss: 0.20758500695228577, Accuracy: 94.0999984741211, Test Loss: 0.39157044887542725, Test Accuracy: 87.69999694824219\n",
            "Epoch 5, Loss: 0.18098247051239014, Accuracy: 93.80000305175781, Test Loss: 0.3762110471725464, Test Accuracy: 88.77000427246094\n",
            "Epoch 6, Loss: 0.14655327796936035, Accuracy: 95.20000457763672, Test Loss: 0.3583637773990631, Test Accuracy: 89.92000579833984\n",
            "Epoch 7, Loss: 0.101632259786129, Accuracy: 97.19999694824219, Test Loss: 0.3657341003417969, Test Accuracy: 89.6300048828125\n",
            "Epoch 8, Loss: 0.08588520437479019, Accuracy: 97.5, Test Loss: 0.33630284667015076, Test Accuracy: 90.47000122070312\n",
            "Epoch 9, Loss: 0.0628645196557045, Accuracy: 98.5999984741211, Test Loss: 0.3445400595664978, Test Accuracy: 90.62000274658203\n",
            "Epoch 10, Loss: 0.05693371593952179, Accuracy: 98.4000015258789, Test Loss: 0.36104172468185425, Test Accuracy: 90.18000030517578\n",
            "Epoch 11, Loss: 0.038587428629398346, Accuracy: 99.0999984741211, Test Loss: 0.3728339970111847, Test Accuracy: 90.20999908447266\n",
            "Epoch 12, Loss: 0.03996014967560768, Accuracy: 98.9000015258789, Test Loss: 0.3913746178150177, Test Accuracy: 90.24000549316406\n",
            "Epoch 13, Loss: 0.035153452306985855, Accuracy: 99.0999984741211, Test Loss: 0.3925556242465973, Test Accuracy: 89.94000244140625\n",
            "Epoch 14, Loss: 0.04499465599656105, Accuracy: 98.79999542236328, Test Loss: 0.3691464960575104, Test Accuracy: 90.41000366210938\n",
            "Epoch 15, Loss: 0.033184003084897995, Accuracy: 99.0999984741211, Test Loss: 0.3523537516593933, Test Accuracy: 91.0199966430664\n",
            "Epoch 16, Loss: 0.02221628651022911, Accuracy: 99.5999984741211, Test Loss: 0.3732132017612457, Test Accuracy: 91.08000183105469\n",
            "Epoch 17, Loss: 0.02351331152021885, Accuracy: 99.69999694824219, Test Loss: 0.3637477159500122, Test Accuracy: 90.98999786376953\n",
            "Epoch 18, Loss: 0.020601240918040276, Accuracy: 99.69999694824219, Test Loss: 0.3828587234020233, Test Accuracy: 90.75\n",
            "Final test loss: 0.33630285\n"
          ],
          "name": "stdout"
        }
      ]
    },
    {
      "cell_type": "markdown",
      "metadata": {
        "id": "lHNISAUDQAJl"
      },
      "source": [
        "Experimenting with combinations of all methods used previously to achieve the lowest final test loss"
      ]
    },
    {
      "cell_type": "code",
      "metadata": {
        "colab": {
          "base_uri": "https://localhost:8080/",
          "height": 476
        },
        "id": "b-TLKvV5VVb4",
        "outputId": "8505db3d-4bea-43c1-ef5f-da5b1911aff3"
      },
      "source": [
        "class BasicCNN(Model):\n",
        "  def __init__(self):\n",
        "    super(BasicCNN, self).__init__()\n",
        "    self.conv1 = Conv2D(32, 3, activation='relu', kernel_regularizer=regularizers.l2(1))\n",
        "    self.drop1 = Dropout(0.25)\n",
        "    self.flatten = Flatten()\n",
        "    self.d1 = Dense(128, activation='relu', kernel_regularizer=regularizers.l2(1))\n",
        "    self.drop2 = Dropout(0.4)\n",
        "    self.d2 = Dense(16, activation='softmax', kernel_regularizer=regularizers.l2(1))\n",
        "\n",
        "  def call(self, x):\n",
        "    x = self.conv1(x)\n",
        "    x = self.drop1(x)\n",
        "    x = self.flatten(x)\n",
        "    x = self.d1(x)\n",
        "    x = self.drop2(x)\n",
        "    return self.d2(x)\n",
        "\n",
        "train_image_generator = ImageDataGenerator(rescale=1./255,\n",
        "                                           rotation_range = 25,\n",
        "                                           zoom_range=0.3,\n",
        "                                           width_shift_range=0.2) \n",
        "test_image_generator = ImageDataGenerator(rescale=1./255) \n",
        "final_test_loss = trainer(BasicCNN, train_image_generator, test_image_generator, \n",
        "                          verbose=True, batch_size=16, max_epochs=100, early_stopping=True, \n",
        "                          patience=20)\n",
        "print('Final test loss:', final_test_loss)"
      ],
      "execution_count": null,
      "outputs": [
        {
          "output_type": "stream",
          "text": [
            "Epoch 1, Loss: 2.0893967151641846, Accuracy: 28.5, Test Loss: 1.2753198146820068, Test Accuracy: 59.79999923706055\n",
            "Epoch 2, Loss: 1.4770716428756714, Accuracy: 52.10000228881836, Test Loss: 0.8165087699890137, Test Accuracy: 78.55999755859375\n",
            "Epoch 3, Loss: 1.1868131160736084, Accuracy: 63.5, Test Loss: 0.5300261974334717, Test Accuracy: 87.36000061035156\n",
            "Epoch 4, Loss: 0.975665807723999, Accuracy: 68.9000015258789, Test Loss: 0.4258553683757782, Test Accuracy: 88.51000213623047\n",
            "Epoch 5, Loss: 0.9759364724159241, Accuracy: 70.5, Test Loss: 0.3876029849052429, Test Accuracy: 90.41999816894531\n",
            "Epoch 6, Loss: 0.8595106601715088, Accuracy: 72.0, Test Loss: 0.3222549855709076, Test Accuracy: 92.15999603271484\n",
            "Epoch 7, Loss: 0.7473852634429932, Accuracy: 75.9000015258789, Test Loss: 0.301344633102417, Test Accuracy: 92.1500015258789\n"
          ],
          "name": "stdout"
        },
        {
          "output_type": "error",
          "ename": "KeyboardInterrupt",
          "evalue": "ignored",
          "traceback": [
            "\u001b[0;31m---------------------------------------------------------------------------\u001b[0m",
            "\u001b[0;31mKeyboardInterrupt\u001b[0m                         Traceback (most recent call last)",
            "\u001b[0;32m<ipython-input-32-9cce31e5cd40>\u001b[0m in \u001b[0;36m<module>\u001b[0;34m()\u001b[0m\n\u001b[1;32m     24\u001b[0m final_test_loss = trainer(BasicCNN, train_image_generator, test_image_generator, \n\u001b[1;32m     25\u001b[0m                           \u001b[0mverbose\u001b[0m\u001b[0;34m=\u001b[0m\u001b[0;32mTrue\u001b[0m\u001b[0;34m,\u001b[0m \u001b[0mbatch_size\u001b[0m\u001b[0;34m=\u001b[0m\u001b[0;36m16\u001b[0m\u001b[0;34m,\u001b[0m \u001b[0mmax_epochs\u001b[0m\u001b[0;34m=\u001b[0m\u001b[0;36m100\u001b[0m\u001b[0;34m,\u001b[0m \u001b[0mearly_stopping\u001b[0m\u001b[0;34m=\u001b[0m\u001b[0;32mTrue\u001b[0m\u001b[0;34m,\u001b[0m\u001b[0;34m\u001b[0m\u001b[0;34m\u001b[0m\u001b[0m\n\u001b[0;32m---> 26\u001b[0;31m                           patience=20)\n\u001b[0m\u001b[1;32m     27\u001b[0m \u001b[0mprint\u001b[0m\u001b[0;34m(\u001b[0m\u001b[0;34m'Final test loss:'\u001b[0m\u001b[0;34m,\u001b[0m \u001b[0mfinal_test_loss\u001b[0m\u001b[0;34m)\u001b[0m\u001b[0;34m\u001b[0m\u001b[0;34m\u001b[0m\u001b[0m\n",
            "\u001b[0;32m<ipython-input-12-b7490f28ef2b>\u001b[0m in \u001b[0;36mtrainer\u001b[0;34m(cls, train_image_generator, test_image_generator, verbose, batch_size, max_epochs, early_stopping, patience)\u001b[0m\n\u001b[1;32m     68\u001b[0m     \u001b[0mbatches\u001b[0m \u001b[0;34m=\u001b[0m \u001b[0;36m0\u001b[0m\u001b[0;34m\u001b[0m\u001b[0;34m\u001b[0m\u001b[0m\n\u001b[1;32m     69\u001b[0m     \u001b[0;32mfor\u001b[0m \u001b[0mimages\u001b[0m\u001b[0;34m,\u001b[0m \u001b[0mlabels\u001b[0m \u001b[0;32min\u001b[0m \u001b[0mtest_data_gen\u001b[0m\u001b[0;34m:\u001b[0m\u001b[0;34m\u001b[0m\u001b[0;34m\u001b[0m\u001b[0m\n\u001b[0;32m---> 70\u001b[0;31m       \u001b[0mtest_step\u001b[0m\u001b[0;34m(\u001b[0m\u001b[0mimages\u001b[0m\u001b[0;34m,\u001b[0m \u001b[0mlabels\u001b[0m\u001b[0;34m)\u001b[0m\u001b[0;34m\u001b[0m\u001b[0;34m\u001b[0m\u001b[0m\n\u001b[0m\u001b[1;32m     71\u001b[0m       \u001b[0mbatches\u001b[0m \u001b[0;34m+=\u001b[0m \u001b[0;36m1\u001b[0m\u001b[0;34m\u001b[0m\u001b[0;34m\u001b[0m\u001b[0m\n\u001b[1;32m     72\u001b[0m       \u001b[0;32mif\u001b[0m \u001b[0mbatches\u001b[0m \u001b[0;34m>=\u001b[0m \u001b[0mlen\u001b[0m\u001b[0;34m(\u001b[0m\u001b[0mx_test\u001b[0m\u001b[0;34m)\u001b[0m \u001b[0;34m/\u001b[0m \u001b[0mbatch_size\u001b[0m\u001b[0;34m:\u001b[0m\u001b[0;34m\u001b[0m\u001b[0;34m\u001b[0m\u001b[0m\n",
            "\u001b[0;32m/usr/local/lib/python3.7/dist-packages/tensorflow/python/eager/def_function.py\u001b[0m in \u001b[0;36m__call__\u001b[0;34m(self, *args, **kwds)\u001b[0m\n\u001b[1;32m    826\u001b[0m     \u001b[0mtracing_count\u001b[0m \u001b[0;34m=\u001b[0m \u001b[0mself\u001b[0m\u001b[0;34m.\u001b[0m\u001b[0mexperimental_get_tracing_count\u001b[0m\u001b[0;34m(\u001b[0m\u001b[0;34m)\u001b[0m\u001b[0;34m\u001b[0m\u001b[0;34m\u001b[0m\u001b[0m\n\u001b[1;32m    827\u001b[0m     \u001b[0;32mwith\u001b[0m \u001b[0mtrace\u001b[0m\u001b[0;34m.\u001b[0m\u001b[0mTrace\u001b[0m\u001b[0;34m(\u001b[0m\u001b[0mself\u001b[0m\u001b[0;34m.\u001b[0m\u001b[0m_name\u001b[0m\u001b[0;34m)\u001b[0m \u001b[0;32mas\u001b[0m \u001b[0mtm\u001b[0m\u001b[0;34m:\u001b[0m\u001b[0;34m\u001b[0m\u001b[0;34m\u001b[0m\u001b[0m\n\u001b[0;32m--> 828\u001b[0;31m       \u001b[0mresult\u001b[0m \u001b[0;34m=\u001b[0m \u001b[0mself\u001b[0m\u001b[0;34m.\u001b[0m\u001b[0m_call\u001b[0m\u001b[0;34m(\u001b[0m\u001b[0;34m*\u001b[0m\u001b[0margs\u001b[0m\u001b[0;34m,\u001b[0m \u001b[0;34m**\u001b[0m\u001b[0mkwds\u001b[0m\u001b[0;34m)\u001b[0m\u001b[0;34m\u001b[0m\u001b[0;34m\u001b[0m\u001b[0m\n\u001b[0m\u001b[1;32m    829\u001b[0m       \u001b[0mcompiler\u001b[0m \u001b[0;34m=\u001b[0m \u001b[0;34m\"xla\"\u001b[0m \u001b[0;32mif\u001b[0m \u001b[0mself\u001b[0m\u001b[0;34m.\u001b[0m\u001b[0m_experimental_compile\u001b[0m \u001b[0;32melse\u001b[0m \u001b[0;34m\"nonXla\"\u001b[0m\u001b[0;34m\u001b[0m\u001b[0;34m\u001b[0m\u001b[0m\n\u001b[1;32m    830\u001b[0m       \u001b[0mnew_tracing_count\u001b[0m \u001b[0;34m=\u001b[0m \u001b[0mself\u001b[0m\u001b[0;34m.\u001b[0m\u001b[0mexperimental_get_tracing_count\u001b[0m\u001b[0;34m(\u001b[0m\u001b[0;34m)\u001b[0m\u001b[0;34m\u001b[0m\u001b[0;34m\u001b[0m\u001b[0m\n",
            "\u001b[0;32m/usr/local/lib/python3.7/dist-packages/tensorflow/python/eager/def_function.py\u001b[0m in \u001b[0;36m_call\u001b[0;34m(self, *args, **kwds)\u001b[0m\n\u001b[1;32m    860\u001b[0m       \u001b[0;31m# In this case we have not created variables on the first call. So we can\u001b[0m\u001b[0;34m\u001b[0m\u001b[0;34m\u001b[0m\u001b[0;34m\u001b[0m\u001b[0m\n\u001b[1;32m    861\u001b[0m       \u001b[0;31m# run the first trace but we should fail if variables are created.\u001b[0m\u001b[0;34m\u001b[0m\u001b[0;34m\u001b[0m\u001b[0;34m\u001b[0m\u001b[0m\n\u001b[0;32m--> 862\u001b[0;31m       \u001b[0mresults\u001b[0m \u001b[0;34m=\u001b[0m \u001b[0mself\u001b[0m\u001b[0;34m.\u001b[0m\u001b[0m_stateful_fn\u001b[0m\u001b[0;34m(\u001b[0m\u001b[0;34m*\u001b[0m\u001b[0margs\u001b[0m\u001b[0;34m,\u001b[0m \u001b[0;34m**\u001b[0m\u001b[0mkwds\u001b[0m\u001b[0;34m)\u001b[0m\u001b[0;34m\u001b[0m\u001b[0;34m\u001b[0m\u001b[0m\n\u001b[0m\u001b[1;32m    863\u001b[0m       \u001b[0;32mif\u001b[0m \u001b[0mself\u001b[0m\u001b[0;34m.\u001b[0m\u001b[0m_created_variables\u001b[0m\u001b[0;34m:\u001b[0m\u001b[0;34m\u001b[0m\u001b[0;34m\u001b[0m\u001b[0m\n\u001b[1;32m    864\u001b[0m         raise ValueError(\"Creating variables on a non-first call to a function\"\n",
            "\u001b[0;32m/usr/local/lib/python3.7/dist-packages/tensorflow/python/eager/function.py\u001b[0m in \u001b[0;36m__call__\u001b[0;34m(self, *args, **kwargs)\u001b[0m\n\u001b[1;32m   2941\u001b[0m        filtered_flat_args) = self._maybe_define_function(args, kwargs)\n\u001b[1;32m   2942\u001b[0m     return graph_function._call_flat(\n\u001b[0;32m-> 2943\u001b[0;31m         filtered_flat_args, captured_inputs=graph_function.captured_inputs)  # pylint: disable=protected-access\n\u001b[0m\u001b[1;32m   2944\u001b[0m \u001b[0;34m\u001b[0m\u001b[0m\n\u001b[1;32m   2945\u001b[0m   \u001b[0;34m@\u001b[0m\u001b[0mproperty\u001b[0m\u001b[0;34m\u001b[0m\u001b[0;34m\u001b[0m\u001b[0m\n",
            "\u001b[0;32m/usr/local/lib/python3.7/dist-packages/tensorflow/python/eager/function.py\u001b[0m in \u001b[0;36m_call_flat\u001b[0;34m(self, args, captured_inputs, cancellation_manager)\u001b[0m\n\u001b[1;32m   1917\u001b[0m       \u001b[0;31m# No tape is watching; skip to running the function.\u001b[0m\u001b[0;34m\u001b[0m\u001b[0;34m\u001b[0m\u001b[0;34m\u001b[0m\u001b[0m\n\u001b[1;32m   1918\u001b[0m       return self._build_call_outputs(self._inference_function.call(\n\u001b[0;32m-> 1919\u001b[0;31m           ctx, args, cancellation_manager=cancellation_manager))\n\u001b[0m\u001b[1;32m   1920\u001b[0m     forward_backward = self._select_forward_and_backward_functions(\n\u001b[1;32m   1921\u001b[0m         \u001b[0margs\u001b[0m\u001b[0;34m,\u001b[0m\u001b[0;34m\u001b[0m\u001b[0;34m\u001b[0m\u001b[0m\n",
            "\u001b[0;32m/usr/local/lib/python3.7/dist-packages/tensorflow/python/eager/function.py\u001b[0m in \u001b[0;36mcall\u001b[0;34m(self, ctx, args, cancellation_manager)\u001b[0m\n\u001b[1;32m    558\u001b[0m               \u001b[0minputs\u001b[0m\u001b[0;34m=\u001b[0m\u001b[0margs\u001b[0m\u001b[0;34m,\u001b[0m\u001b[0;34m\u001b[0m\u001b[0;34m\u001b[0m\u001b[0m\n\u001b[1;32m    559\u001b[0m               \u001b[0mattrs\u001b[0m\u001b[0;34m=\u001b[0m\u001b[0mattrs\u001b[0m\u001b[0;34m,\u001b[0m\u001b[0;34m\u001b[0m\u001b[0;34m\u001b[0m\u001b[0m\n\u001b[0;32m--> 560\u001b[0;31m               ctx=ctx)\n\u001b[0m\u001b[1;32m    561\u001b[0m         \u001b[0;32melse\u001b[0m\u001b[0;34m:\u001b[0m\u001b[0;34m\u001b[0m\u001b[0;34m\u001b[0m\u001b[0m\n\u001b[1;32m    562\u001b[0m           outputs = execute.execute_with_cancellation(\n",
            "\u001b[0;32m/usr/local/lib/python3.7/dist-packages/tensorflow/python/eager/execute.py\u001b[0m in \u001b[0;36mquick_execute\u001b[0;34m(op_name, num_outputs, inputs, attrs, ctx, name)\u001b[0m\n\u001b[1;32m     58\u001b[0m     \u001b[0mctx\u001b[0m\u001b[0;34m.\u001b[0m\u001b[0mensure_initialized\u001b[0m\u001b[0;34m(\u001b[0m\u001b[0;34m)\u001b[0m\u001b[0;34m\u001b[0m\u001b[0;34m\u001b[0m\u001b[0m\n\u001b[1;32m     59\u001b[0m     tensors = pywrap_tfe.TFE_Py_Execute(ctx._handle, device_name, op_name,\n\u001b[0;32m---> 60\u001b[0;31m                                         inputs, attrs, num_outputs)\n\u001b[0m\u001b[1;32m     61\u001b[0m   \u001b[0;32mexcept\u001b[0m \u001b[0mcore\u001b[0m\u001b[0;34m.\u001b[0m\u001b[0m_NotOkStatusException\u001b[0m \u001b[0;32mas\u001b[0m \u001b[0me\u001b[0m\u001b[0;34m:\u001b[0m\u001b[0;34m\u001b[0m\u001b[0;34m\u001b[0m\u001b[0m\n\u001b[1;32m     62\u001b[0m     \u001b[0;32mif\u001b[0m \u001b[0mname\u001b[0m \u001b[0;32mis\u001b[0m \u001b[0;32mnot\u001b[0m \u001b[0;32mNone\u001b[0m\u001b[0;34m:\u001b[0m\u001b[0;34m\u001b[0m\u001b[0;34m\u001b[0m\u001b[0m\n",
            "\u001b[0;31mKeyboardInterrupt\u001b[0m: "
          ]
        }
      ]
    },
    {
      "cell_type": "markdown",
      "metadata": {
        "id": "ghJ7EAGh9-yw"
      },
      "source": [
        "Plotting results of training / test loss vs epoch number"
      ]
    },
    {
      "cell_type": "code",
      "metadata": {
        "id": "Lx1vid62esyU",
        "colab": {
          "base_uri": "https://localhost:8080/",
          "height": 627
        },
        "outputId": "bdc4fdc0-575c-41bd-fe64-55da8867c1dd"
      },
      "source": [
        "fig = plt.figure(figsize=(10,10))\n",
        "ax = fig.add_subplot(111)\n",
        "ax.plot(epoch_number, stored_train_loss,epoch_number,stored_test_loss)\n",
        "ax.set_xlabel('Epoch', fontsize = 14)\n",
        "ax.set_ylabel('Loss', fontsize=14)\n",
        "ax.legend(('Training loss','Test loss'), fontsize=14)"
      ],
      "execution_count": null,
      "outputs": [
        {
          "output_type": "execute_result",
          "data": {
            "text/plain": [
              "<matplotlib.legend.Legend at 0x7fa859fa3850>"
            ]
          },
          "metadata": {
            "tags": []
          },
          "execution_count": 37
        },
        {
          "output_type": "display_data",
          "data": {
            "image/png": "[encoded data removed]",
            "text/plain": [
              "<Figure size 720x720 with 1 Axes>"
            ]
          },
          "metadata": {
            "tags": [],
            "needs_background": "light"
          }
        }
      ]
    }
  ]
}
