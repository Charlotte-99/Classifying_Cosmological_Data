{
  "nbformat": 4,
  "nbformat_minor": 0,
  "metadata": {
    "colab": {
      "name": "CNN Development.ipynb",
      "provenance": [],
      "collapsed_sections": [],
      "mount_file_id": "1iVRD9ot_xtZHWM5wpCSJGXUzYXexD1RM",
      "authorship_tag": "ABX9TyOMnL17aLdvtVQN77NP9Fxr",
      "include_colab_link": true
    },
    "kernelspec": {
      "name": "python3",
      "display_name": "Python 3"
    },
    "language_info": {
      "name": "python"
    },
    "accelerator": "GPU"
  },
  "cells": [
    {
      "cell_type": "markdown",
      "metadata": {
        "id": "view-in-github",
        "colab_type": "text"
      },
      "source": [
        "<a href=\"https://colab.research.google.com/github/Charlotte-99/Y3Project/blob/main/CNN_Development.ipynb\" target=\"_parent\"><img src=\"https://colab.research.google.com/assets/colab-badge.svg\" alt=\"Open In Colab\"/></a>"
      ]
    },
    {
      "cell_type": "markdown",
      "metadata": {
        "id": "Su8Bpg_ky4-F"
      },
      "source": [
        "# CNN Development\n",
        "\n",
        "In this notebook, we experiment with building a model using a dataset containing 1000 CMB maps and 500 string maps."
      ]
    },
    {
      "cell_type": "code",
      "metadata": {
        "id": "TYb64Rj7ynzZ"
      },
      "source": [
        "import numpy as np\n",
        "import matplotlib.pyplot as plt\n",
        "import tensorflow as tf\n",
        "import os\n",
        "\n",
        "from tensorflow.keras.layers import Dense, Flatten, Conv2D, MaxPooling2D\n",
        "from tensorflow.keras.models import Sequential"
      ],
      "execution_count": 27,
      "outputs": []
    },
    {
      "cell_type": "code",
      "metadata": {
        "id": "sVF_T54nzH3G"
      },
      "source": [
        "# Change directory\n",
        "os.chdir('drive/MyDrive/Project')"
      ],
      "execution_count": 2,
      "outputs": []
    },
    {
      "cell_type": "markdown",
      "metadata": {
        "id": "YRFy4Cg4zQma"
      },
      "source": [
        "## Importing the data\n",
        "In this section, we import and format out data into an appropriate format to build a dataset."
      ]
    },
    {
      "cell_type": "code",
      "metadata": {
        "id": "aRC2AvsXzdNS"
      },
      "source": [
        "# Import data\n",
        "cmb = np.load('cmb_1000_extracts.npy')\n",
        "string = np.concatenate([np.load('string_map_extracts_1.npy'),\n",
        "                         np.load('string_map_extracts_2.npy'),\n",
        "                         np.load('string_map_extracts_3.npy')])\n",
        "\n",
        "# Add channel dimension\n",
        "cmb = cmb[..., np.newaxis]\n",
        "string = string[..., np.newaxis]"
      ],
      "execution_count": 3,
      "outputs": []
    },
    {
      "cell_type": "code",
      "metadata": {
        "colab": {
          "base_uri": "https://localhost:8080/"
        },
        "id": "bT3hO_1o0AQ6",
        "outputId": "774c8a95-6df2-4197-db77-d818b31397ff"
      },
      "source": [
        "print(cmb.shape)\n",
        "print(string.shape)"
      ],
      "execution_count": 4,
      "outputs": [
        {
          "output_type": "stream",
          "text": [
            "(1000, 200, 200, 1)\n",
            "(500, 200, 200, 1)\n"
          ],
          "name": "stdout"
        }
      ]
    },
    {
      "cell_type": "markdown",
      "metadata": {
        "id": "vYZDScXN0Mf4"
      },
      "source": [
        "The cmb array contains 20 extracts each from 50 different full-sky maps, whilst the string array contains 166-167 extracts each from 3 different full-sky maps. \n",
        "\n",
        "Here, we shuffle the data to give a good mix of images. We then split the data into three different groups:\n",
        "\n",
        "\n",
        "1.   Training set - this will be used to train our model. It will use 500 cmb maps and 250 string maps.\n",
        "2.   Validation set - this will be used during training to check performance on unseen maps. It will contain 250 cmb maps and 125 string maps.\n",
        "3. Test set - this will kept separate from training as a final check on our model's performance. It will contain 250 cmb maps and 125 string maps.\n",
        "\n",
        "We will use the same labelling scheme as before: '0' for no string augmentations and '1' for string augmentations.\n",
        "\n",
        "First we will shuffle the data."
      ]
    },
    {
      "cell_type": "code",
      "metadata": {
        "id": "qibdaFqs0y0m"
      },
      "source": [
        "# Shuffle cmb and string maps using different seeds.\n",
        "np.random.RandomState(1).shuffle(cmb)\n",
        "np.random.RandomState(99).shuffle(string)"
      ],
      "execution_count": 5,
      "outputs": []
    },
    {
      "cell_type": "markdown",
      "metadata": {
        "id": "jVBG8bLX-2VB"
      },
      "source": [
        "Then we will create the training set."
      ]
    },
    {
      "cell_type": "code",
      "metadata": {
        "colab": {
          "base_uri": "https://localhost:8080/"
        },
        "id": "zvsDOchF-4pK",
        "outputId": "a059b44e-4efe-4e1c-d37d-0b4034505555"
      },
      "source": [
        "# Slice cmb array\n",
        "X_train_cmb = cmb[:500]\n",
        "\n",
        "# Slice string array and also add placeholder string arrays for the cmb maps\n",
        "# that we won't augment\n",
        "nan_string = np.empty(shape=(250, 200, 200, 1))\n",
        "nan_string[:] = np.NaN\n",
        "X_train_string = np.concatenate([nan_string, string[:250]])\n",
        "\n",
        "# Label data\n",
        "y_train = np.concatenate([np.zeros(250), np.ones(250)])\n",
        "\n",
        "# Shuffle all arrays with same seed\n",
        "np.random.RandomState(7).shuffle(X_train_cmb)\n",
        "np.random.RandomState(7).shuffle(X_train_string)\n",
        "np.random.RandomState(7).shuffle(y_train)\n",
        "\n",
        "print(X_train_cmb.shape)\n",
        "print(X_train_string.shape)\n",
        "print(y_train.shape)"
      ],
      "execution_count": 86,
      "outputs": [
        {
          "output_type": "stream",
          "text": [
            "(500, 200, 200, 1)\n",
            "(500, 200, 200, 1)\n",
            "(500, 1)\n"
          ],
          "name": "stdout"
        }
      ]
    },
    {
      "cell_type": "markdown",
      "metadata": {
        "id": "UTJojGeZAsjE"
      },
      "source": [
        "Then we will create the validation set."
      ]
    },
    {
      "cell_type": "code",
      "metadata": {
        "colab": {
          "base_uri": "https://localhost:8080/"
        },
        "id": "nPTo4Mf5Avc_",
        "outputId": "e2dfb420-ff6e-4e73-a974-c3a7a60e4edf"
      },
      "source": [
        "# Slice cmb array\n",
        "X_val_cmb = cmb[500:750]\n",
        "\n",
        "# Slice string array\n",
        "X_val_string = string[250:375]\n",
        "\n",
        "# Create array split into two classes; first half of array will have no augmentations\n",
        "alpha = 5e-6\n",
        "X_val = np.concatenate([X_val_cmb[:125],\n",
        "                        X_val_cmb[125:] + alpha*X_val_string])\n",
        "\n",
        "# Create labels\n",
        "y_val = np.concatenate([np.zeros(125), np.ones(125)])\n",
        "\n",
        "# Shuffle X_val, y_val with same seed\n",
        "np.random.RandomState(14).shuffle(X_val)\n",
        "np.random.RandomState(14).shuffle(y_val)\n",
        "\n",
        "print(X_val.shape)\n",
        "print(y_val.shape)"
      ],
      "execution_count": 87,
      "outputs": [
        {
          "output_type": "stream",
          "text": [
            "(250, 200, 200, 1)\n",
            "(250, 1)\n"
          ],
          "name": "stdout"
        }
      ]
    },
    {
      "cell_type": "markdown",
      "metadata": {
        "id": "HmmeVY3aCaZb"
      },
      "source": [
        "And finally the test set."
      ]
    },
    {
      "cell_type": "code",
      "metadata": {
        "colab": {
          "base_uri": "https://localhost:8080/"
        },
        "id": "-N4XK6oeCcI9",
        "outputId": "a33abeeb-9e32-4c86-e8b6-ae3c879d802f"
      },
      "source": [
        "# Slice cmb array\n",
        "X_test_cmb = cmb[750:]\n",
        "\n",
        "# Slice string array\n",
        "X_test_string = string[375:]\n",
        "\n",
        "# Create array split into two classes; first half of array will have no augmentations\n",
        "alpha = 5e-6\n",
        "X_test = np.concatenate([X_test_cmb[:125],\n",
        "                        X_test_cmb[125:] + alpha*X_test_string])\n",
        "\n",
        "# Create labels\n",
        "y_test = np.concatenate([np.zeros(125), np.ones(125)])\n",
        "\n",
        "# Shuffle X_val, y_val with same seed\n",
        "np.random.RandomState(14).shuffle(X_test)\n",
        "np.random.RandomState(14).shuffle(y_test)\n",
        "\n",
        "print(X_test.shape)\n",
        "print(y_test.shape)"
      ],
      "execution_count": 88,
      "outputs": [
        {
          "output_type": "stream",
          "text": [
            "(250, 200, 200, 1)\n",
            "(250, 1)\n"
          ],
          "name": "stdout"
        }
      ]
    },
    {
      "cell_type": "markdown",
      "metadata": {
        "id": "v7wLINzxC268"
      },
      "source": [
        "## Building the pipeline and CNN\n",
        "In this section we will build the pipeline and CNN. First we introduce two functions: a batch normalisation function and another that will perform random string augmentations on the fly on our training set."
      ]
    },
    {
      "cell_type": "code",
      "metadata": {
        "id": "V5Bu3J8mDFjA"
      },
      "source": [
        "def selective_string_maps(string_map, cmb_map, label):\n",
        "  # label value\n",
        "  N = np.int(label)\n",
        "\n",
        "  # Transformation: rotate CMB map\n",
        "  # Output: rotated CMB map and original label\n",
        "  def rotation():\n",
        "    cmb_rot = tf.image.rot90(cmb_map, tf.random.uniform(shape=[], minval=0,\n",
        "                                          maxval=4, dtype=tf.int32))\n",
        "    return cmb_rot, label\n",
        "\n",
        "  # Transformation: introduce discontinuities to CMB map\n",
        "  # Output: discontinuity map and original label\n",
        "  def add_string():\n",
        "    alpha = 5e-6\n",
        "    string_rot = tf.image.rot90(string_map, tf.random.uniform(shape=[], minval=0,\n",
        "                                maxval=4, dtype=tf.int32))\n",
        "    string_scaled = tf.multiply(string_rot, alpha)\n",
        "    cmb_rot = tf.image.rot90(cmb_map, tf.random.uniform(shape=[], minval=0,\n",
        "                            maxval=4, dtype=tf.int32))\n",
        "    aug_cmb = tf.add(cmb_rot, string_scaled)\n",
        "    return aug_cmb, label\n",
        "\n",
        "  return tf.cond(N == 0, true_fn=rotation, false_fn=add_string)"
      ],
      "execution_count": 89,
      "outputs": []
    },
    {
      "cell_type": "code",
      "metadata": {
        "id": "JiUuuHuCDV5z"
      },
      "source": [
        "def batch_normalization(map, label):\n",
        "  epsilon = 0.0001\n",
        "  mean, variance = tf.nn.moments(map, axes=[0])\n",
        "  map_normalized = (map - mean)/(variance + epsilon)\n",
        "  return map_normalized, label  "
      ],
      "execution_count": 47,
      "outputs": []
    },
    {
      "cell_type": "markdown",
      "metadata": {
        "id": "834rZwRWDaLP"
      },
      "source": [
        "Then we define our CNN."
      ]
    },
    {
      "cell_type": "code",
      "metadata": {
        "id": "Wu62-uL4DcQr"
      },
      "source": [
        "# Build model\n",
        "def build_model():\n",
        "  model = Sequential([Conv2D(32, 3, activation='relu'),\n",
        "                      Conv2D(32, 3, activation='relu'),\n",
        "                      MaxPooling2D(2),\n",
        "                      Flatten(),\n",
        "                      Dense(128, activation='relu'),\n",
        "                      Dense(2, activation='softmax')\n",
        "                      ])\n",
        "  optimizer = tf.keras.optimizers.Adam(0.0001)\n",
        "  model.compile(optimizer=optimizer,\n",
        "              loss=tf.keras.losses.SparseCategoricalCrossentropy(),\n",
        "              metrics=['accuracy'])\n",
        "  return model"
      ],
      "execution_count": 92,
      "outputs": []
    },
    {
      "cell_type": "markdown",
      "metadata": {
        "id": "05YcTNyGDfFO"
      },
      "source": [
        "And finally we build our pipelines and test our CNN model."
      ]
    },
    {
      "cell_type": "code",
      "metadata": {
        "colab": {
          "base_uri": "https://localhost:8080/",
          "height": 1000
        },
        "id": "Ed_8pVx3DjKY",
        "outputId": "92f105d7-c7c1-4f09-ba80-48044ff4d341"
      },
      "source": [
        "# Create datasets\n",
        "train_ds = tf.data.Dataset.from_tensor_slices((X_train_string, X_train_cmb, y_train))\n",
        "val_ds = tf.data.Dataset.from_tensor_slices((X_val, y_val))\n",
        "test_ds = tf.data.Dataset.from_tensor_slices((X_test, y_test))\n",
        "\n",
        "# Train dataset pipeline\n",
        "train_ds = train_ds.map(selective_string_maps)\n",
        "train_ds = train_ds.shuffle(60)\n",
        "train_ds = train_ds.batch(16)\n",
        "train_ds = train_ds.map(batch_normalization)\n",
        "train_ds = train_ds.prefetch(1)\n",
        "\n",
        "# Validation dataset pipeline\n",
        "val_ds = val_ds.batch(16)\n",
        "val_ds = val_ds.map(batch_normalization)\n",
        "val_ds = val_ds.prefetch(1)\n",
        "\n",
        "# Test dataset pipeline\n",
        "test_ds = test_ds.batch(16)\n",
        "test_ds = test_ds.map(batch_normalization)\n",
        "test_ds = test_ds.prefetch(1)\n",
        "\n",
        "model = build_model()\n",
        "\n",
        "history = model.fit(train_ds, epochs=40, verbose=1, validation_data=val_ds)\n",
        "print(model.summary())"
      ],
      "execution_count": 93,
      "outputs": [
        {
          "output_type": "stream",
          "text": [
            "Epoch 1/40\n",
            "32/32 [==============================] - 4s 105ms/step - loss: 1.9070 - accuracy: 0.4988 - val_loss: 0.7057 - val_accuracy: 0.5000\n",
            "Epoch 2/40\n",
            "32/32 [==============================] - 3s 97ms/step - loss: 0.6058 - accuracy: 0.5168 - val_loss: 0.7070 - val_accuracy: 0.5000\n",
            "Epoch 3/40\n",
            "32/32 [==============================] - 3s 98ms/step - loss: 0.6527 - accuracy: 0.5186 - val_loss: 0.6888 - val_accuracy: 0.5000\n",
            "Epoch 4/40\n",
            "32/32 [==============================] - 3s 98ms/step - loss: 0.6533 - accuracy: 0.5123 - val_loss: 0.7118 - val_accuracy: 0.5000\n",
            "Epoch 5/40\n",
            "32/32 [==============================] - 3s 96ms/step - loss: 0.6101 - accuracy: 0.5066 - val_loss: 0.6570 - val_accuracy: 0.5000\n",
            "Epoch 6/40\n",
            "32/32 [==============================] - 3s 98ms/step - loss: 0.5431 - accuracy: 0.5010 - val_loss: 0.6382 - val_accuracy: 0.5000\n",
            "Epoch 7/40\n",
            "32/32 [==============================] - 3s 99ms/step - loss: 0.5321 - accuracy: 0.5169 - val_loss: 0.6275 - val_accuracy: 0.5000\n",
            "Epoch 8/40\n",
            "32/32 [==============================] - 3s 98ms/step - loss: 0.5255 - accuracy: 0.4949 - val_loss: 0.6492 - val_accuracy: 0.5000\n",
            "Epoch 9/40\n",
            "32/32 [==============================] - 3s 97ms/step - loss: 0.5116 - accuracy: 0.5266 - val_loss: 0.8106 - val_accuracy: 0.5000\n",
            "Epoch 10/40\n",
            "32/32 [==============================] - 3s 98ms/step - loss: 0.5361 - accuracy: 0.5012 - val_loss: 0.6185 - val_accuracy: 0.5000\n",
            "Epoch 11/40\n",
            "32/32 [==============================] - 3s 97ms/step - loss: 0.4629 - accuracy: 0.5016 - val_loss: 0.5989 - val_accuracy: 0.5000\n",
            "Epoch 12/40\n",
            "32/32 [==============================] - 3s 98ms/step - loss: 0.4344 - accuracy: 0.5068 - val_loss: 0.6131 - val_accuracy: 0.5000\n",
            "Epoch 13/40\n",
            "32/32 [==============================] - 3s 96ms/step - loss: 0.4374 - accuracy: 0.5147 - val_loss: 0.5903 - val_accuracy: 0.5000\n",
            "Epoch 14/40\n",
            "32/32 [==============================] - 3s 98ms/step - loss: 0.4160 - accuracy: 0.4908 - val_loss: 0.6072 - val_accuracy: 0.5000\n",
            "Epoch 15/40\n",
            "32/32 [==============================] - 3s 98ms/step - loss: 0.3782 - accuracy: 0.5127 - val_loss: 0.6934 - val_accuracy: 0.5000\n",
            "Epoch 16/40\n",
            "32/32 [==============================] - 3s 98ms/step - loss: 0.4338 - accuracy: 0.5034 - val_loss: 0.5882 - val_accuracy: 0.5000\n",
            "Epoch 17/40\n",
            "32/32 [==============================] - 3s 100ms/step - loss: 0.3396 - accuracy: 0.4926 - val_loss: 0.5417 - val_accuracy: 0.5000\n",
            "Epoch 18/40\n",
            "32/32 [==============================] - 3s 98ms/step - loss: 0.3547 - accuracy: 0.5042 - val_loss: 0.5366 - val_accuracy: 0.5000\n",
            "Epoch 19/40\n",
            "32/32 [==============================] - 3s 99ms/step - loss: 0.3589 - accuracy: 0.5092 - val_loss: 0.5383 - val_accuracy: 0.5000\n",
            "Epoch 20/40\n",
            "32/32 [==============================] - 3s 98ms/step - loss: 0.3180 - accuracy: 0.5019 - val_loss: 0.6471 - val_accuracy: 0.5000\n",
            "Epoch 21/40\n",
            "32/32 [==============================] - 3s 97ms/step - loss: 0.2938 - accuracy: 0.4988 - val_loss: 0.6125 - val_accuracy: 0.5000\n",
            "Epoch 22/40\n",
            "23/32 [====================>.........] - ETA: 0s - loss: 0.2923 - accuracy: 0.5038"
          ],
          "name": "stdout"
        },
        {
          "output_type": "error",
          "ename": "KeyboardInterrupt",
          "evalue": "ignored",
          "traceback": [
            "\u001b[0;31m---------------------------------------------------------------------------\u001b[0m",
            "\u001b[0;31mKeyboardInterrupt\u001b[0m                         Traceback (most recent call last)",
            "\u001b[0;32m<ipython-input-93-87655c6c4597>\u001b[0m in \u001b[0;36m<module>\u001b[0;34m()\u001b[0m\n\u001b[1;32m     23\u001b[0m \u001b[0mmodel\u001b[0m \u001b[0;34m=\u001b[0m \u001b[0mbuild_model\u001b[0m\u001b[0;34m(\u001b[0m\u001b[0;34m)\u001b[0m\u001b[0;34m\u001b[0m\u001b[0;34m\u001b[0m\u001b[0m\n\u001b[1;32m     24\u001b[0m \u001b[0;34m\u001b[0m\u001b[0m\n\u001b[0;32m---> 25\u001b[0;31m \u001b[0mhistory\u001b[0m \u001b[0;34m=\u001b[0m \u001b[0mmodel\u001b[0m\u001b[0;34m.\u001b[0m\u001b[0mfit\u001b[0m\u001b[0;34m(\u001b[0m\u001b[0mtrain_ds\u001b[0m\u001b[0;34m,\u001b[0m \u001b[0mepochs\u001b[0m\u001b[0;34m=\u001b[0m\u001b[0;36m40\u001b[0m\u001b[0;34m,\u001b[0m \u001b[0mverbose\u001b[0m\u001b[0;34m=\u001b[0m\u001b[0;36m1\u001b[0m\u001b[0;34m,\u001b[0m \u001b[0mvalidation_data\u001b[0m\u001b[0;34m=\u001b[0m\u001b[0mval_ds\u001b[0m\u001b[0;34m)\u001b[0m\u001b[0;34m\u001b[0m\u001b[0;34m\u001b[0m\u001b[0m\n\u001b[0m\u001b[1;32m     26\u001b[0m \u001b[0mprint\u001b[0m\u001b[0;34m(\u001b[0m\u001b[0mmodel\u001b[0m\u001b[0;34m.\u001b[0m\u001b[0msummary\u001b[0m\u001b[0;34m(\u001b[0m\u001b[0;34m)\u001b[0m\u001b[0;34m)\u001b[0m\u001b[0;34m\u001b[0m\u001b[0;34m\u001b[0m\u001b[0m\n",
            "\u001b[0;32m/usr/local/lib/python3.7/dist-packages/tensorflow/python/keras/engine/training.py\u001b[0m in \u001b[0;36mfit\u001b[0;34m(self, x, y, batch_size, epochs, verbose, callbacks, validation_split, validation_data, shuffle, class_weight, sample_weight, initial_epoch, steps_per_epoch, validation_steps, validation_batch_size, validation_freq, max_queue_size, workers, use_multiprocessing)\u001b[0m\n\u001b[1;32m   1098\u001b[0m                 _r=1):\n\u001b[1;32m   1099\u001b[0m               \u001b[0mcallbacks\u001b[0m\u001b[0;34m.\u001b[0m\u001b[0mon_train_batch_begin\u001b[0m\u001b[0;34m(\u001b[0m\u001b[0mstep\u001b[0m\u001b[0;34m)\u001b[0m\u001b[0;34m\u001b[0m\u001b[0;34m\u001b[0m\u001b[0m\n\u001b[0;32m-> 1100\u001b[0;31m               \u001b[0mtmp_logs\u001b[0m \u001b[0;34m=\u001b[0m \u001b[0mself\u001b[0m\u001b[0;34m.\u001b[0m\u001b[0mtrain_function\u001b[0m\u001b[0;34m(\u001b[0m\u001b[0miterator\u001b[0m\u001b[0;34m)\u001b[0m\u001b[0;34m\u001b[0m\u001b[0;34m\u001b[0m\u001b[0m\n\u001b[0m\u001b[1;32m   1101\u001b[0m               \u001b[0;32mif\u001b[0m \u001b[0mdata_handler\u001b[0m\u001b[0;34m.\u001b[0m\u001b[0mshould_sync\u001b[0m\u001b[0;34m:\u001b[0m\u001b[0;34m\u001b[0m\u001b[0;34m\u001b[0m\u001b[0m\n\u001b[1;32m   1102\u001b[0m                 \u001b[0mcontext\u001b[0m\u001b[0;34m.\u001b[0m\u001b[0masync_wait\u001b[0m\u001b[0;34m(\u001b[0m\u001b[0;34m)\u001b[0m\u001b[0;34m\u001b[0m\u001b[0;34m\u001b[0m\u001b[0m\n",
            "\u001b[0;32m/usr/local/lib/python3.7/dist-packages/tensorflow/python/eager/def_function.py\u001b[0m in \u001b[0;36m__call__\u001b[0;34m(self, *args, **kwds)\u001b[0m\n\u001b[1;32m    826\u001b[0m     \u001b[0mtracing_count\u001b[0m \u001b[0;34m=\u001b[0m \u001b[0mself\u001b[0m\u001b[0;34m.\u001b[0m\u001b[0mexperimental_get_tracing_count\u001b[0m\u001b[0;34m(\u001b[0m\u001b[0;34m)\u001b[0m\u001b[0;34m\u001b[0m\u001b[0;34m\u001b[0m\u001b[0m\n\u001b[1;32m    827\u001b[0m     \u001b[0;32mwith\u001b[0m \u001b[0mtrace\u001b[0m\u001b[0;34m.\u001b[0m\u001b[0mTrace\u001b[0m\u001b[0;34m(\u001b[0m\u001b[0mself\u001b[0m\u001b[0;34m.\u001b[0m\u001b[0m_name\u001b[0m\u001b[0;34m)\u001b[0m \u001b[0;32mas\u001b[0m \u001b[0mtm\u001b[0m\u001b[0;34m:\u001b[0m\u001b[0;34m\u001b[0m\u001b[0;34m\u001b[0m\u001b[0m\n\u001b[0;32m--> 828\u001b[0;31m       \u001b[0mresult\u001b[0m \u001b[0;34m=\u001b[0m \u001b[0mself\u001b[0m\u001b[0;34m.\u001b[0m\u001b[0m_call\u001b[0m\u001b[0;34m(\u001b[0m\u001b[0;34m*\u001b[0m\u001b[0margs\u001b[0m\u001b[0;34m,\u001b[0m \u001b[0;34m**\u001b[0m\u001b[0mkwds\u001b[0m\u001b[0;34m)\u001b[0m\u001b[0;34m\u001b[0m\u001b[0;34m\u001b[0m\u001b[0m\n\u001b[0m\u001b[1;32m    829\u001b[0m       \u001b[0mcompiler\u001b[0m \u001b[0;34m=\u001b[0m \u001b[0;34m\"xla\"\u001b[0m \u001b[0;32mif\u001b[0m \u001b[0mself\u001b[0m\u001b[0;34m.\u001b[0m\u001b[0m_experimental_compile\u001b[0m \u001b[0;32melse\u001b[0m \u001b[0;34m\"nonXla\"\u001b[0m\u001b[0;34m\u001b[0m\u001b[0;34m\u001b[0m\u001b[0m\n\u001b[1;32m    830\u001b[0m       \u001b[0mnew_tracing_count\u001b[0m \u001b[0;34m=\u001b[0m \u001b[0mself\u001b[0m\u001b[0;34m.\u001b[0m\u001b[0mexperimental_get_tracing_count\u001b[0m\u001b[0;34m(\u001b[0m\u001b[0;34m)\u001b[0m\u001b[0;34m\u001b[0m\u001b[0;34m\u001b[0m\u001b[0m\n",
            "\u001b[0;32m/usr/local/lib/python3.7/dist-packages/tensorflow/python/eager/def_function.py\u001b[0m in \u001b[0;36m_call\u001b[0;34m(self, *args, **kwds)\u001b[0m\n\u001b[1;32m    853\u001b[0m       \u001b[0;31m# In this case we have created variables on the first call, so we run the\u001b[0m\u001b[0;34m\u001b[0m\u001b[0;34m\u001b[0m\u001b[0;34m\u001b[0m\u001b[0m\n\u001b[1;32m    854\u001b[0m       \u001b[0;31m# defunned version which is guaranteed to never create variables.\u001b[0m\u001b[0;34m\u001b[0m\u001b[0;34m\u001b[0m\u001b[0;34m\u001b[0m\u001b[0m\n\u001b[0;32m--> 855\u001b[0;31m       \u001b[0;32mreturn\u001b[0m \u001b[0mself\u001b[0m\u001b[0;34m.\u001b[0m\u001b[0m_stateless_fn\u001b[0m\u001b[0;34m(\u001b[0m\u001b[0;34m*\u001b[0m\u001b[0margs\u001b[0m\u001b[0;34m,\u001b[0m \u001b[0;34m**\u001b[0m\u001b[0mkwds\u001b[0m\u001b[0;34m)\u001b[0m  \u001b[0;31m# pylint: disable=not-callable\u001b[0m\u001b[0;34m\u001b[0m\u001b[0;34m\u001b[0m\u001b[0m\n\u001b[0m\u001b[1;32m    856\u001b[0m     \u001b[0;32melif\u001b[0m \u001b[0mself\u001b[0m\u001b[0;34m.\u001b[0m\u001b[0m_stateful_fn\u001b[0m \u001b[0;32mis\u001b[0m \u001b[0;32mnot\u001b[0m \u001b[0;32mNone\u001b[0m\u001b[0;34m:\u001b[0m\u001b[0;34m\u001b[0m\u001b[0;34m\u001b[0m\u001b[0m\n\u001b[1;32m    857\u001b[0m       \u001b[0;31m# Release the lock early so that multiple threads can perform the call\u001b[0m\u001b[0;34m\u001b[0m\u001b[0;34m\u001b[0m\u001b[0;34m\u001b[0m\u001b[0m\n",
            "\u001b[0;32m/usr/local/lib/python3.7/dist-packages/tensorflow/python/eager/function.py\u001b[0m in \u001b[0;36m__call__\u001b[0;34m(self, *args, **kwargs)\u001b[0m\n\u001b[1;32m   2941\u001b[0m        filtered_flat_args) = self._maybe_define_function(args, kwargs)\n\u001b[1;32m   2942\u001b[0m     return graph_function._call_flat(\n\u001b[0;32m-> 2943\u001b[0;31m         filtered_flat_args, captured_inputs=graph_function.captured_inputs)  # pylint: disable=protected-access\n\u001b[0m\u001b[1;32m   2944\u001b[0m \u001b[0;34m\u001b[0m\u001b[0m\n\u001b[1;32m   2945\u001b[0m   \u001b[0;34m@\u001b[0m\u001b[0mproperty\u001b[0m\u001b[0;34m\u001b[0m\u001b[0;34m\u001b[0m\u001b[0m\n",
            "\u001b[0;32m/usr/local/lib/python3.7/dist-packages/tensorflow/python/eager/function.py\u001b[0m in \u001b[0;36m_call_flat\u001b[0;34m(self, args, captured_inputs, cancellation_manager)\u001b[0m\n\u001b[1;32m   1917\u001b[0m       \u001b[0;31m# No tape is watching; skip to running the function.\u001b[0m\u001b[0;34m\u001b[0m\u001b[0;34m\u001b[0m\u001b[0;34m\u001b[0m\u001b[0m\n\u001b[1;32m   1918\u001b[0m       return self._build_call_outputs(self._inference_function.call(\n\u001b[0;32m-> 1919\u001b[0;31m           ctx, args, cancellation_manager=cancellation_manager))\n\u001b[0m\u001b[1;32m   1920\u001b[0m     forward_backward = self._select_forward_and_backward_functions(\n\u001b[1;32m   1921\u001b[0m         \u001b[0margs\u001b[0m\u001b[0;34m,\u001b[0m\u001b[0;34m\u001b[0m\u001b[0;34m\u001b[0m\u001b[0m\n",
            "\u001b[0;32m/usr/local/lib/python3.7/dist-packages/tensorflow/python/eager/function.py\u001b[0m in \u001b[0;36mcall\u001b[0;34m(self, ctx, args, cancellation_manager)\u001b[0m\n\u001b[1;32m    558\u001b[0m               \u001b[0minputs\u001b[0m\u001b[0;34m=\u001b[0m\u001b[0margs\u001b[0m\u001b[0;34m,\u001b[0m\u001b[0;34m\u001b[0m\u001b[0;34m\u001b[0m\u001b[0m\n\u001b[1;32m    559\u001b[0m               \u001b[0mattrs\u001b[0m\u001b[0;34m=\u001b[0m\u001b[0mattrs\u001b[0m\u001b[0;34m,\u001b[0m\u001b[0;34m\u001b[0m\u001b[0;34m\u001b[0m\u001b[0m\n\u001b[0;32m--> 560\u001b[0;31m               ctx=ctx)\n\u001b[0m\u001b[1;32m    561\u001b[0m         \u001b[0;32melse\u001b[0m\u001b[0;34m:\u001b[0m\u001b[0;34m\u001b[0m\u001b[0;34m\u001b[0m\u001b[0m\n\u001b[1;32m    562\u001b[0m           outputs = execute.execute_with_cancellation(\n",
            "\u001b[0;32m/usr/local/lib/python3.7/dist-packages/tensorflow/python/eager/execute.py\u001b[0m in \u001b[0;36mquick_execute\u001b[0;34m(op_name, num_outputs, inputs, attrs, ctx, name)\u001b[0m\n\u001b[1;32m     58\u001b[0m     \u001b[0mctx\u001b[0m\u001b[0;34m.\u001b[0m\u001b[0mensure_initialized\u001b[0m\u001b[0;34m(\u001b[0m\u001b[0;34m)\u001b[0m\u001b[0;34m\u001b[0m\u001b[0;34m\u001b[0m\u001b[0m\n\u001b[1;32m     59\u001b[0m     tensors = pywrap_tfe.TFE_Py_Execute(ctx._handle, device_name, op_name,\n\u001b[0;32m---> 60\u001b[0;31m                                         inputs, attrs, num_outputs)\n\u001b[0m\u001b[1;32m     61\u001b[0m   \u001b[0;32mexcept\u001b[0m \u001b[0mcore\u001b[0m\u001b[0;34m.\u001b[0m\u001b[0m_NotOkStatusException\u001b[0m \u001b[0;32mas\u001b[0m \u001b[0me\u001b[0m\u001b[0;34m:\u001b[0m\u001b[0;34m\u001b[0m\u001b[0;34m\u001b[0m\u001b[0m\n\u001b[1;32m     62\u001b[0m     \u001b[0;32mif\u001b[0m \u001b[0mname\u001b[0m \u001b[0;32mis\u001b[0m \u001b[0;32mnot\u001b[0m \u001b[0;32mNone\u001b[0m\u001b[0;34m:\u001b[0m\u001b[0;34m\u001b[0m\u001b[0;34m\u001b[0m\u001b[0m\n",
            "\u001b[0;31mKeyboardInterrupt\u001b[0m: "
          ]
        }
      ]
    },
    {
      "cell_type": "code",
      "metadata": {
        "colab": {
          "base_uri": "https://localhost:8080/",
          "height": 283
        },
        "id": "h-82V9heFPGn",
        "outputId": "1a679c4f-e906-4cb9-ba3b-187c8ba38e9a"
      },
      "source": [
        "plt.plot(history.history['val_loss'])"
      ],
      "execution_count": 80,
      "outputs": [
        {
          "output_type": "execute_result",
          "data": {
            "text/plain": [
              "[<matplotlib.lines.Line2D at 0x7ff69353bd10>]"
            ]
          },
          "metadata": {
            "tags": []
          },
          "execution_count": 80
        },
        {
          "output_type": "display_data",
          "data": {
            "image/png": "[encoded data removed]",
            "text/plain": [
              "<Figure size 432x288 with 1 Axes>"
            ]
          },
          "metadata": {
            "tags": [],
            "needs_background": "light"
          }
        }
      ]
    }
  ]
}