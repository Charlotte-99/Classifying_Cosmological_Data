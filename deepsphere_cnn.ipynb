{
  "nbformat": 4,
  "nbformat_minor": 0,
  "metadata": {
    "colab": {
      "name": "deepsphere cnn.ipynb",
      "provenance": [],
      "toc_visible": true,
      "authorship_tag": "ABX9TyOlRYvhwbdPxtUpTHp4k2UW",
      "include_colab_link": true
    },
    "kernelspec": {
      "name": "python3",
      "display_name": "Python 3"
    },
    "language_info": {
      "name": "python"
    }
  },
  "cells": [
    {
      "cell_type": "markdown",
      "metadata": {
        "id": "view-in-github",
        "colab_type": "text"
      },
      "source": [
        "<a href=\"https://colab.research.google.com/github/Charlotte-99/Y3Project/blob/main/deepsphere_cnn.ipynb\" target=\"_parent\"><img src=\"https://colab.research.google.com/assets/colab-badge.svg\" alt=\"Open In Colab\"/></a>"
      ]
    },
    {
      "cell_type": "markdown",
      "metadata": {
        "id": "1k7YPJWqr5r3"
      },
      "source": [
        "# Healpy and DeepSphere"
      ]
    },
    {
      "cell_type": "markdown",
      "metadata": {
        "id": "cONxCdqor-KP"
      },
      "source": [
        "## Importing the modules\n",
        "First we mount our google drive (this will bring up an authentication process)."
      ]
    },
    {
      "cell_type": "code",
      "metadata": {
        "id": "wENF_78TQAjB"
      },
      "source": [
        "from google.colab import drive\n",
        "import os\n",
        "\n",
        "drive.mount('/content/drive')"
      ],
      "execution_count": null,
      "outputs": []
    },
    {
      "cell_type": "markdown",
      "metadata": {
        "id": "qxvdQxtdsPzG"
      },
      "source": [
        "We can then change directory to our main Google drive folder."
      ]
    },
    {
      "cell_type": "code",
      "metadata": {
        "id": "NyL52m6hSrVu"
      },
      "source": [
        "os.chdir('/content/drive/My Drive')"
      ],
      "execution_count": null,
      "outputs": []
    },
    {
      "cell_type": "markdown",
      "metadata": {
        "id": "PSjCG4CAsgiP"
      },
      "source": [
        "Then we clone the GitHub repository and change directory to this folder.\n",
        "This should only need to be done this one time, afterwards we can comment out the cloning line."
      ]
    },
    {
      "cell_type": "code",
      "metadata": {
        "id": "w7YHgvFYUFTL"
      },
      "source": [
        "!git clone https://github.com/deepsphere/deepsphere-cosmo-tf2.git\n",
        "os.chdir('/content/drive/My Drive/deepsphere-cosmo-tf2')"
      ],
      "execution_count": null,
      "outputs": []
    },
    {
      "cell_type": "markdown",
      "metadata": {
        "id": "VXCNP3i_swng"
      },
      "source": [
        "We then have to install the package requirements using the .txt file."
      ]
    },
    {
      "cell_type": "code",
      "metadata": {
        "id": "xXqgLDCDUU5K"
      },
      "source": [
        "!pip install -r requirements.txt"
      ],
      "execution_count": null,
      "outputs": []
    },
    {
      "cell_type": "markdown",
      "metadata": {
        "id": "MlLmjwUys3Gr"
      },
      "source": [
        "Then we install the deepsphere package.\n",
        "\n",
        "After running this cell, restart the runtime."
      ]
    },
    {
      "cell_type": "code",
      "metadata": {
        "id": "9w5zwzYfUYfy"
      },
      "source": [
        "!pip install -e ."
      ],
      "execution_count": null,
      "outputs": []
    },
    {
      "cell_type": "markdown",
      "metadata": {
        "id": "wbGsvmYmtBFT"
      },
      "source": [
        "Then we can import modules (and make sure the directory is correct)."
      ]
    },
    {
      "cell_type": "code",
      "metadata": {
        "id": "71D-qWRpUqNN"
      },
      "source": [
        "import deepsphere\n",
        "import matplotlib.pyplot as plt\n",
        "import tensorflow as tf\n",
        "import numpy as np \n",
        "import os\n",
        "import healpy as hp\n",
        "\n",
        "\n",
        "from google.colab import files\n",
        "from deepsphere import HealpyGCNN\n",
        "import deepsphere.healpy_layers as hp_layer\n",
        "\n",
        "os.chdir('/content/drive/My Drive/deepsphere-cosmo-tf2')"
      ],
      "execution_count": null,
      "outputs": []
    },
    {
      "cell_type": "markdown",
      "metadata": {
        "id": "uhRAoT0Gtoqr"
      },
      "source": [
        "## DeepSphere CNN\n",
        "Can then play around with tutorials."
      ]
    },
    {
      "cell_type": "code",
      "metadata": {
        "id": "BBuGVjAyVFRM"
      },
      "source": [
        "# Upload files\n",
        "files.upload()"
      ],
      "execution_count": null,
      "outputs": []
    }
  ]
}