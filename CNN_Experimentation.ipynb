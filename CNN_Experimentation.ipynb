{
  "nbformat": 4,
  "nbformat_minor": 0,
  "metadata": {
    "colab": {
      "name": "CNN Experimentation",
      "provenance": [],
      "authorship_tag": "ABX9TyOC8iRy2XZ5QYV6SUUP+ylW",
      "include_colab_link": true
    },
    "kernelspec": {
      "name": "python3",
      "display_name": "Python 3"
    },
    "accelerator": "GPU"
  },
  "cells": [
    {
      "cell_type": "markdown",
      "metadata": {
        "id": "view-in-github",
        "colab_type": "text"
      },
      "source": [
        "<a href=\"https://colab.research.google.com/github/Charlotte-99/Classifying_Cosmological_Data/blob/main/CNN_Experimentation.ipynb\" target=\"_parent\"><img src=\"https://colab.research.google.com/assets/colab-badge.svg\" alt=\"Open In Colab\"/></a>"
      ]
    },
    {
      "cell_type": "markdown",
      "metadata": {
        "id": "usEfwLJBNyCF"
      },
      "source": [
        "**Using CNNs to classify the MNIST Fashion dataset**"
      ]
    },
    {
      "cell_type": "markdown",
      "metadata": {
        "id": "sjm2LuKqOapl"
      },
      "source": [
        "Setting up and installing required modules"
      ]
    },
    {
      "cell_type": "code",
      "metadata": {
        "id": "zgFpGEEgODI7"
      },
      "source": [
        "try:\n",
        "  # %tensorflow_version only exists in Colab.\n",
        "  %tensorflow_version 2.x\n",
        "except Exception:\n",
        "  pass"
      ],
      "execution_count": null,
      "outputs": []
    },
    {
      "cell_type": "code",
      "metadata": {
        "id": "9T-ixys6OFmc"
      },
      "source": [
        "from __future__ import absolute_import, division, print_function, unicode_literals\n",
        "\n",
        "import tensorflow as tf\n",
        "from tensorflow.python.keras import regularizers\n",
        "\n",
        "from tensorflow.keras.models import Sequential\n",
        "from tensorflow.keras.layers import Dense, Flatten, Conv2D, Dropout, AveragePooling2D, MaxPooling2D\n",
        "from tensorflow.keras import Model\n",
        "from tensorflow.keras.preprocessing.image import ImageDataGenerator\n",
        "\n",
        "import matplotlib.pyplot as plt\n",
        "\n",
        "import numpy as np"
      ],
      "execution_count": null,
      "outputs": []
    },
    {
      "cell_type": "code",
      "metadata": {
        "colab": {
          "base_uri": "https://localhost:8080/"
        },
        "id": "T4MkOeG_OPfh",
        "outputId": "17afc93e-a013-4b91-d86c-80bc32e66cec"
      },
      "source": [
        "print(tf.__version__)"
      ],
      "execution_count": null,
      "outputs": [
        {
          "output_type": "stream",
          "text": [
            "2.4.1\n"
          ],
          "name": "stdout"
        }
      ]
    },
    {
      "cell_type": "markdown",
      "metadata": {
        "id": "AULaO5xmOYsd"
      },
      "source": [
        "Loading the fashion MNIST data set to work with"
      ]
    },
    {
      "cell_type": "code",
      "metadata": {
        "id": "Xb2DJUVAOwMT",
        "colab": {
          "base_uri": "https://localhost:8080/"
        },
        "outputId": "d4084faf-0309-465b-860d-364ea33abe95"
      },
      "source": [
        "fashion_mnist = tf.keras.datasets.fashion_mnist\n",
        "(x_train, y_train), (x_test, y_test) = fashion_mnist.load_data()\n",
        "\n",
        "x_train = x_train[..., tf.newaxis].astype(np.float32)\n",
        "x_test = x_test[..., tf.newaxis].astype(np.float32)"
      ],
      "execution_count": null,
      "outputs": [
        {
          "output_type": "stream",
          "text": [
            "Downloading data from https://storage.googleapis.com/tensorflow/tf-keras-datasets/train-labels-idx1-ubyte.gz\n",
            "32768/29515 [=================================] - 0s 0us/step\n",
            "Downloading data from https://storage.googleapis.com/tensorflow/tf-keras-datasets/train-images-idx3-ubyte.gz\n",
            "26427392/26421880 [==============================] - 0s 0us/step\n",
            "Downloading data from https://storage.googleapis.com/tensorflow/tf-keras-datasets/t10k-labels-idx1-ubyte.gz\n",
            "8192/5148 [===============================================] - 0s 0us/step\n",
            "Downloading data from https://storage.googleapis.com/tensorflow/tf-keras-datasets/t10k-images-idx3-ubyte.gz\n",
            "4423680/4422102 [==============================] - 0s 0us/step\n"
          ],
          "name": "stdout"
        }
      ]
    },
    {
      "cell_type": "code",
      "metadata": {
        "id": "AFdX3tYjPMlL"
      },
      "source": [
        "class_names = ['T-shirt/top', 'Trouser', 'Pullover', 'Dress', 'Coat',\n",
        "               'Sandal', 'Shirt', 'Sneaker', 'Bag', 'Ankle boot']"
      ],
      "execution_count": null,
      "outputs": []
    },
    {
      "cell_type": "markdown",
      "metadata": {
        "id": "NG5T5nEOPZfY"
      },
      "source": [
        "Using code as in regularisation code to plot and rescale the downloaded data set"
      ]
    },
    {
      "cell_type": "code",
      "metadata": {
        "id": "xvidY-BfP3fp"
      },
      "source": [
        "def plotImages(images_arr):\n",
        "    fig, axes = plt.subplots(1, 5, figsize=(15, 15))\n",
        "    axes = axes.flatten()\n",
        "    for img, ax in zip( images_arr, axes):\n",
        "        ax.imshow(np.squeeze(img))\n",
        "        ax.axis('off')\n",
        "    plt.tight_layout()\n",
        "    plt.show()"
      ],
      "execution_count": null,
      "outputs": []
    },
    {
      "cell_type": "code",
      "metadata": {
        "colab": {
          "base_uri": "https://localhost:8080/",
          "height": 234
        },
        "id": "jmgnpKv1P5wI",
        "outputId": "71d1f7d7-70ee-4cb9-f1a4-b0d7446953e3"
      },
      "source": [
        "image_generator = ImageDataGenerator(rescale=1./255) \n",
        "data_gen = image_generator.flow(x_train, y_train, batch_size=32) \n",
        "sample_images, sample_labels = next(data_gen)\n",
        "plotImages(sample_images[:5])"
      ],
      "execution_count": null,
      "outputs": [
        {
          "output_type": "display_data",
          "data": {
            "image/png": "[encoded data removed]",
            "text/plain": [
              "<Figure size 1080x1080 with 5 Axes>"
            ]
          },
          "metadata": {
            "tags": [],
            "needs_background": "light"
          }
        }
      ]
    },
    {
      "cell_type": "code",
      "metadata": {
        "colab": {
          "base_uri": "https://localhost:8080/",
          "height": 234
        },
        "id": "XHDgQoIIRAEf",
        "outputId": "f1c634e8-fce8-4b9c-bb08-c213733f4d8f"
      },
      "source": [
        "image_generator = ImageDataGenerator(rescale=1./255, \n",
        "                                     rotation_range=20) \n",
        "data_gen = image_generator.flow(x_train, y_train, batch_size=32) \n",
        "augmented_images = [data_gen[0][0][0] for i in range(5)]\n",
        "plotImages(augmented_images)"
      ],
      "execution_count": null,
      "outputs": [
        {
          "output_type": "display_data",
          "data": {
            "image/png": "[encoded data removed]",
            "text/plain": [
              "<Figure size 1080x1080 with 5 Axes>"
            ]
          },
          "metadata": {
            "tags": [],
            "needs_background": "light"
          }
        }
      ]
    },
    {
      "cell_type": "markdown",
      "metadata": {
        "id": "XKBaIjDWWjVb"
      },
      "source": [
        "**Non-CNN Model**"
      ]
    },
    {
      "cell_type": "markdown",
      "metadata": {
        "id": "K6ZqgcEhWubS"
      },
      "source": [
        "Model built using the TensorFlow tutorial (https://www.tensorflow.org/tutorials/keras/classification) to create a neural network consisting of two fully connected layers, using the Adam optimizer and the sparse categorical cross entropy loss function"
      ]
    },
    {
      "cell_type": "code",
      "metadata": {
        "id": "6CJe7K2nXoX_"
      },
      "source": [
        "model = tf.keras.Sequential([\n",
        "    tf.keras.layers.Flatten(input_shape=(28, 28)),\n",
        "    tf.keras.layers.Dense(128, activation='relu'),\n",
        "    tf.keras.layers.Dense(10)\n",
        "])\n",
        "\n",
        "model.compile(optimizer='adam',\n",
        "              loss=tf.keras.losses.SparseCategoricalCrossentropy(from_logits=True),\n",
        "              metrics=['accuracy'])"
      ],
      "execution_count": null,
      "outputs": []
    },
    {
      "cell_type": "code",
      "metadata": {
        "colab": {
          "base_uri": "https://localhost:8080/"
        },
        "id": "5QTwLr0zX4yu",
        "outputId": "b4e38bbc-8d6f-49bf-9fce-a110194e3ae6"
      },
      "source": [
        "model.fit(x_train, y_train, epochs=15)\n",
        "\n",
        "test_loss, test_acc = model.evaluate(x_test,  y_test, verbose=2)\n",
        "\n",
        "print('\\nTest accuracy:', test_acc)"
      ],
      "execution_count": null,
      "outputs": [
        {
          "output_type": "stream",
          "text": [
            "Epoch 1/15\n",
            "1875/1875 [==============================] - 3s 2ms/step - loss: 0.5364 - accuracy: 0.8026\n",
            "Epoch 2/15\n",
            "1875/1875 [==============================] - 3s 2ms/step - loss: 0.5340 - accuracy: 0.8043\n",
            "Epoch 3/15\n",
            "1875/1875 [==============================] - 3s 2ms/step - loss: 0.5285 - accuracy: 0.8059\n",
            "Epoch 4/15\n",
            "1875/1875 [==============================] - 3s 2ms/step - loss: 0.5284 - accuracy: 0.8048\n",
            "Epoch 5/15\n",
            "1875/1875 [==============================] - 3s 2ms/step - loss: 0.5290 - accuracy: 0.8054\n",
            "Epoch 6/15\n",
            "1875/1875 [==============================] - 3s 2ms/step - loss: 0.5288 - accuracy: 0.8079\n",
            "Epoch 7/15\n",
            "1875/1875 [==============================] - 3s 2ms/step - loss: 0.5173 - accuracy: 0.8082\n",
            "Epoch 8/15\n",
            "1875/1875 [==============================] - 3s 2ms/step - loss: 0.5223 - accuracy: 0.8086\n",
            "Epoch 9/15\n",
            "1875/1875 [==============================] - 3s 2ms/step - loss: 0.5198 - accuracy: 0.8090\n",
            "Epoch 10/15\n",
            "1875/1875 [==============================] - 3s 2ms/step - loss: 0.5288 - accuracy: 0.8057\n",
            "Epoch 11/15\n",
            "1875/1875 [==============================] - 3s 2ms/step - loss: 0.5233 - accuracy: 0.8082\n",
            "Epoch 12/15\n",
            "1875/1875 [==============================] - 3s 2ms/step - loss: 0.5196 - accuracy: 0.8089\n",
            "Epoch 13/15\n",
            "1875/1875 [==============================] - 3s 2ms/step - loss: 0.5172 - accuracy: 0.8101\n",
            "Epoch 14/15\n",
            "1875/1875 [==============================] - 3s 2ms/step - loss: 0.5200 - accuracy: 0.8091\n",
            "Epoch 15/15\n",
            "1875/1875 [==============================] - 3s 2ms/step - loss: 0.5161 - accuracy: 0.8116\n",
            "313/313 - 1s - loss: 0.6641 - accuracy: 0.7905\n",
            "\n",
            "Test accuracy: 0.7904999852180481\n"
          ],
          "name": "stdout"
        }
      ]
    },
    {
      "cell_type": "markdown",
      "metadata": {
        "id": "givKN69lY-p8"
      },
      "source": [
        "This model doesn't give a particularly good accuracy on the test data set, so we are looking to improve on this through exploring different architectures and models"
      ]
    },
    {
      "cell_type": "markdown",
      "metadata": {
        "id": "OJnnvNLIUsNi"
      },
      "source": [
        "**Basic CNN Model**"
      ]
    },
    {
      "cell_type": "markdown",
      "metadata": {
        "id": "gM9Udyb5RDg1"
      },
      "source": [
        "As in regularisation model, basic CNN defined with 32 convolutional filters using a 3x3 kernel, then a dense fully connected layer of 128 units and output layer of 10 units with softmax activation"
      ]
    },
    {
      "cell_type": "code",
      "metadata": {
        "id": "wRKrChF5Rcld"
      },
      "source": [
        "class BasicCNN(Model):\n",
        "  def __init__(self):\n",
        "    super(BasicCNN, self).__init__()\n",
        "    self.conv1 = Conv2D(32, 3, activation='relu')\n",
        "    self.flatten = Flatten()\n",
        "    self.d1 = Dense(128, activation='relu')\n",
        "    self.d2 = Dense(10, activation='softmax')\n",
        "\n",
        "  def call(self, x):\n",
        "    x = self.conv1(x)\n",
        "    x = self.flatten(x)\n",
        "    x = self.d1(x)\n",
        "    return self.d2(x)"
      ],
      "execution_count": null,
      "outputs": []
    },
    {
      "cell_type": "markdown",
      "metadata": {
        "id": "3kfREFNnSHh-"
      },
      "source": [
        "Main training routine, as in the regularisation model this uses the Gradient Tape API and has the option to use early stopping"
      ]
    },
    {
      "cell_type": "code",
      "metadata": {
        "id": "0fpaK8rlSPrY"
      },
      "source": [
        "def trainer(cls, train_image_generator, test_image_generator, \n",
        "            verbose=False, batch_size=32, max_epochs=5, early_stopping=False,\n",
        "            patience=10):\n",
        "  \n",
        "  model = cls()\n",
        "\n",
        "  train_data_gen = train_image_generator.flow(x_train, y_train, \n",
        "                                              batch_size=batch_size) \n",
        "\n",
        "  test_data_gen = test_image_generator.flow(x_test, y_test, \n",
        "                                              batch_size=batch_size) \n",
        "\n",
        "  loss_object = tf.keras.losses.SparseCategoricalCrossentropy()\n",
        "  optimizer = tf.keras.optimizers.Adam()\n",
        "\n",
        "  train_loss = tf.keras.metrics.Mean(name='train_loss')\n",
        "  train_accuracy = tf.keras.metrics.SparseCategoricalAccuracy(\n",
        "      name='train_accuracy')\n",
        "\n",
        "  test_loss = tf.keras.metrics.Mean(name='test_loss')\n",
        "  test_accuracy = tf.keras.metrics.SparseCategoricalAccuracy(\n",
        "      name='test_accuracy')\n",
        "  \n",
        "  #Variables stored for use in plotting results\n",
        "  global stored_test_loss\n",
        "  global stored_train_loss\n",
        "  global epoch_number\n",
        "\n",
        "  stored_test_loss = []\n",
        "  stored_train_loss = []\n",
        "  epoch_number = []\n",
        "\n",
        "  #Count for early stopping procedure\n",
        "  final_test_loss = np.inf\n",
        "  count = 0\n",
        "\n",
        "  @tf.function\n",
        "  def train_step(images, labels):\n",
        "    with tf.GradientTape() as tape:\n",
        "      predictions = model(images, training=True)\n",
        "      loss = loss_object(labels, predictions)\n",
        "    gradients = tape.gradient(loss, model.trainable_variables)\n",
        "    optimizer.apply_gradients(zip(gradients, model.trainable_variables))\n",
        "    train_loss(loss)\n",
        "    train_accuracy(labels, predictions)\n",
        "\n",
        "  @tf.function\n",
        "  def test_step(images, labels):\n",
        "    predictions = model(images, training=False)\n",
        "    t_loss = loss_object(labels, predictions)\n",
        "    test_loss(t_loss)\n",
        "    test_accuracy(labels, predictions)\n",
        "\n",
        "  for epoch in range(max_epochs):\n",
        "    # Reset the metrics at the start of the next epoch\n",
        "    train_loss.reset_states()\n",
        "    train_accuracy.reset_states()\n",
        "    test_loss.reset_states()\n",
        "    test_accuracy.reset_states()\n",
        "\n",
        "    batches = 0\n",
        "    for images, labels in train_data_gen:\n",
        "      train_step(images, labels)\n",
        "      batches += 1\n",
        "      if batches >= len(x_train) / batch_size:\n",
        "        break\n",
        "\n",
        "    batches = 0\n",
        "    for images, labels in test_data_gen:\n",
        "      test_step(images, labels)\n",
        "      batches += 1\n",
        "      if batches >= len(x_test) / batch_size:\n",
        "        break\n",
        "\n",
        "    epoch_number.append(epoch+1)\n",
        "    stored_test_loss.append(test_loss.result())\n",
        "    stored_train_loss.append(train_loss.result())\n",
        "\n",
        "    if verbose:\n",
        "      template = 'Epoch {}, Loss: {}, Accuracy: {}, Test Loss: {}, Test Accuracy: {}'\n",
        "      print(template.format(epoch+1,\n",
        "                            train_loss.result(),\n",
        "                            train_accuracy.result()*100,\n",
        "                            test_loss.result(),\n",
        "                            test_accuracy.result()*100))\n",
        "      \n",
        "    #Early stopping procedure\n",
        "    if early_stopping:\n",
        "      if test_loss.result().numpy() < final_test_loss:\n",
        "        final_test_loss = test_loss.result().numpy()\n",
        "        count = 0\n",
        "      count += 1\n",
        "      if count > patience:\n",
        "        break\n",
        "    else:\n",
        "      final_test_loss = test_loss.result().numpy()\n",
        "\n",
        "\n",
        "  return final_test_loss"
      ],
      "execution_count": null,
      "outputs": []
    },
    {
      "cell_type": "markdown",
      "metadata": {
        "id": "NoXfN8gHSVAl"
      },
      "source": [
        "Run with early stopping implemented"
      ]
    },
    {
      "cell_type": "code",
      "metadata": {
        "colab": {
          "base_uri": "https://localhost:8080/"
        },
        "id": "rrsriA0lSXJk",
        "outputId": "5d758cf7-c600-4f86-c593-91aa27cc41ba"
      },
      "source": [
        "train_image_generator = ImageDataGenerator(rescale=1./255) \n",
        "test_image_generator = ImageDataGenerator(rescale=1./255) \n",
        "final_test_loss = trainer(BasicCNN, train_image_generator, test_image_generator, \n",
        "                          verbose=True, max_epochs=50, early_stopping=True, \n",
        "                          patience=10)\n",
        "print('Final test loss:', final_test_loss)"
      ],
      "execution_count": null,
      "outputs": [
        {
          "output_type": "stream",
          "text": [
            "Epoch 1, Loss: 0.37778884172439575, Accuracy: 86.39500427246094, Test Loss: 0.3209723234176636, Test Accuracy: 88.31999969482422\n",
            "Epoch 2, Loss: 0.24611644446849823, Accuracy: 90.90499877929688, Test Loss: 0.28666719794273376, Test Accuracy: 89.51000213623047\n",
            "Epoch 3, Loss: 0.1924172043800354, Accuracy: 92.86833190917969, Test Loss: 0.2805270552635193, Test Accuracy: 89.84000396728516\n",
            "Epoch 4, Loss: 0.14961351454257965, Accuracy: 94.46333312988281, Test Loss: 0.28149789571762085, Test Accuracy: 90.37000274658203\n",
            "Epoch 5, Loss: 0.11272815614938736, Accuracy: 95.80332946777344, Test Loss: 0.2979324758052826, Test Accuracy: 91.22000122070312\n",
            "Epoch 6, Loss: 0.08581972122192383, Accuracy: 96.83833312988281, Test Loss: 0.3141686022281647, Test Accuracy: 90.70999908447266\n",
            "Epoch 7, Loss: 0.06516513973474503, Accuracy: 97.67333221435547, Test Loss: 0.36438918113708496, Test Accuracy: 90.61000061035156\n",
            "Epoch 8, Loss: 0.04842337220907211, Accuracy: 98.24832916259766, Test Loss: 0.3824649453163147, Test Accuracy: 90.98999786376953\n",
            "Epoch 9, Loss: 0.03632538393139839, Accuracy: 98.75, Test Loss: 0.47313135862350464, Test Accuracy: 90.30000305175781\n",
            "Epoch 10, Loss: 0.030033694580197334, Accuracy: 98.94499969482422, Test Loss: 0.4553825557231903, Test Accuracy: 90.37000274658203\n",
            "Epoch 11, Loss: 0.02620912715792656, Accuracy: 99.10333251953125, Test Loss: 0.5273020267486572, Test Accuracy: 90.04000091552734\n",
            "Epoch 12, Loss: 0.02105233445763588, Accuracy: 99.28166961669922, Test Loss: 0.5422736406326294, Test Accuracy: 90.24000549316406\n",
            "Epoch 13, Loss: 0.01710115745663643, Accuracy: 99.41333770751953, Test Loss: 0.5858123302459717, Test Accuracy: 90.20999908447266\n",
            "Final test loss: 0.28052706\n"
          ],
          "name": "stdout"
        }
      ]
    },
    {
      "cell_type": "markdown",
      "metadata": {
        "id": "96iSO4yIU6ll"
      },
      "source": [
        "This basic CNN model doesn't end up with a model that fits the data well - in this run it only completed 13 epochs because the model started to overfit the training set very rapidly. The final test loss was 0.28052706, leaving room for improvement with further models"
      ]
    },
    {
      "cell_type": "markdown",
      "metadata": {
        "id": "ED-XE_uGVOEc"
      },
      "source": [
        "Changing Kernel size to 5x5:"
      ]
    },
    {
      "cell_type": "code",
      "metadata": {
        "colab": {
          "base_uri": "https://localhost:8080/"
        },
        "id": "0DMQhhtxVTos",
        "outputId": "38a0f1c1-687b-4216-804a-ad88c0cbe62a"
      },
      "source": [
        "class BasicCNN(Model):\n",
        "  def __init__(self):\n",
        "    super(BasicCNN, self).__init__()\n",
        "    self.conv1 = Conv2D(32, 5, activation='relu')\n",
        "    self.flatten = Flatten()\n",
        "    self.d1 = Dense(128, activation='relu')\n",
        "    self.d2 = Dense(10, activation='softmax')\n",
        "\n",
        "  def call(self, x):\n",
        "    x = self.conv1(x)\n",
        "    x = self.flatten(x)\n",
        "    x = self.d1(x)\n",
        "    return self.d2(x)\n",
        "\n",
        "train_image_generator = ImageDataGenerator(rescale=1./255) \n",
        "test_image_generator = ImageDataGenerator(rescale=1./255) \n",
        "final_test_loss = trainer(BasicCNN, train_image_generator, test_image_generator, \n",
        "                          verbose=True, max_epochs=50, early_stopping=True, \n",
        "                          patience=10)\n",
        "print('Final test loss:', final_test_loss)"
      ],
      "execution_count": null,
      "outputs": [
        {
          "output_type": "stream",
          "text": [
            "Epoch 1, Loss: 0.3773135840892792, Accuracy: 86.50666809082031, Test Loss: 0.3368423879146576, Test Accuracy: 87.69000244140625\n",
            "Epoch 2, Loss: 0.2549518644809723, Accuracy: 90.61166381835938, Test Loss: 0.2921588718891144, Test Accuracy: 89.52999877929688\n",
            "Epoch 3, Loss: 0.2010733187198639, Accuracy: 92.5, Test Loss: 0.2813721299171448, Test Accuracy: 90.38999938964844\n",
            "Epoch 4, Loss: 0.1634291112422943, Accuracy: 93.88666534423828, Test Loss: 0.30526378750801086, Test Accuracy: 89.92000579833984\n",
            "Epoch 5, Loss: 0.1272512823343277, Accuracy: 95.18333435058594, Test Loss: 0.31332769989967346, Test Accuracy: 90.06000518798828\n",
            "Epoch 6, Loss: 0.10317496955394745, Accuracy: 96.05332946777344, Test Loss: 0.32646870613098145, Test Accuracy: 90.73999786376953\n",
            "Epoch 7, Loss: 0.08183623850345612, Accuracy: 96.94833374023438, Test Loss: 0.3453558683395386, Test Accuracy: 90.44999694824219\n",
            "Epoch 8, Loss: 0.06453938037157059, Accuracy: 97.58833312988281, Test Loss: 0.40364667773246765, Test Accuracy: 90.38999938964844\n",
            "Epoch 9, Loss: 0.054194509983062744, Accuracy: 97.9866714477539, Test Loss: 0.4242740869522095, Test Accuracy: 90.34000396728516\n",
            "Epoch 10, Loss: 0.043122388422489166, Accuracy: 98.44999694824219, Test Loss: 0.4606829285621643, Test Accuracy: 90.51000213623047\n",
            "Epoch 11, Loss: 0.0375133715569973, Accuracy: 98.65499877929688, Test Loss: 0.5244819521903992, Test Accuracy: 89.49000549316406\n",
            "Epoch 12, Loss: 0.03150232136249542, Accuracy: 98.87166595458984, Test Loss: 0.5267701148986816, Test Accuracy: 90.55000305175781\n",
            "Epoch 13, Loss: 0.02587483450770378, Accuracy: 99.09333801269531, Test Loss: 0.5694679021835327, Test Accuracy: 90.34000396728516\n",
            "Final test loss: 0.28137213\n"
          ],
          "name": "stdout"
        }
      ]
    },
    {
      "cell_type": "markdown",
      "metadata": {
        "id": "oyr20W27WBfU"
      },
      "source": [
        "This gives no noticeable change from using the 3x3 kernel - it still fits the training data well but adapts poorly to the test data set"
      ]
    },
    {
      "cell_type": "markdown",
      "metadata": {
        "id": "iP6fwIo-Zm8Q"
      },
      "source": [
        "Experimenting with a variety of regularisation strategies, including L2 regularisation, data augmentation and dropout layers:"
      ]
    },
    {
      "cell_type": "code",
      "metadata": {
        "colab": {
          "base_uri": "https://localhost:8080/"
        },
        "id": "tsMjZ1ndZ1MR",
        "outputId": "574abfe5-27dc-4efa-d735-3f4e1c9b1877"
      },
      "source": [
        "class BasicCNN(Model):\n",
        "  def __init__(self):\n",
        "    super(BasicCNN, self).__init__()\n",
        "    self.conv1 = Conv2D(32, 3, activation='relu', kernel_regularizer=regularizers.l2(1))\n",
        "    self.drop1 = Dropout(0.25)\n",
        "    self.flatten = Flatten()\n",
        "    self.d1 = Dense(128, activation='relu', kernel_regularizer=regularizers.l2(1))\n",
        "    self.drop2 = Dropout(0.4)\n",
        "    self.d2 = Dense(16, activation='softmax', kernel_regularizer=regularizers.l2(1))\n",
        "\n",
        "  def call(self, x):\n",
        "    x = self.conv1(x)\n",
        "    x = self.drop1(x)\n",
        "    x = self.flatten(x)\n",
        "    x = self.d1(x)\n",
        "    x = self.drop2(x)\n",
        "    return self.d2(x)\n",
        "\n",
        "train_image_generator = ImageDataGenerator(rescale=1./255) \n",
        "test_image_generator = ImageDataGenerator(rescale=1./255) \n",
        "final_test_loss = trainer(BasicCNN, train_image_generator, test_image_generator, \n",
        "                          verbose=True, batch_size=16, max_epochs=50, early_stopping=True, \n",
        "                          patience=10)\n",
        "print('Final test loss:', final_test_loss)"
      ],
      "execution_count": null,
      "outputs": [
        {
          "output_type": "stream",
          "text": [
            "Epoch 1, Loss: 0.4837146997451782, Accuracy: 82.8616714477539, Test Loss: 0.33321326971054077, Test Accuracy: 87.5999984741211\n",
            "Epoch 2, Loss: 0.3467640280723572, Accuracy: 87.4749984741211, Test Loss: 0.3002777397632599, Test Accuracy: 89.1500015258789\n",
            "Epoch 3, Loss: 0.3000124394893646, Accuracy: 88.99166870117188, Test Loss: 0.2912687361240387, Test Accuracy: 89.52000427246094\n",
            "Epoch 4, Loss: 0.2694612443447113, Accuracy: 90.0433349609375, Test Loss: 0.2763531506061554, Test Accuracy: 90.08000183105469\n",
            "Epoch 5, Loss: 0.2438642680644989, Accuracy: 90.81999969482422, Test Loss: 0.288873553276062, Test Accuracy: 89.86000061035156\n",
            "Epoch 6, Loss: 0.22453071177005768, Accuracy: 91.5250015258789, Test Loss: 0.2860426604747772, Test Accuracy: 90.26000213623047\n",
            "Epoch 7, Loss: 0.2092241644859314, Accuracy: 92.04999542236328, Test Loss: 0.2966903746128082, Test Accuracy: 90.41999816894531\n",
            "Epoch 8, Loss: 0.19647535681724548, Accuracy: 92.56666564941406, Test Loss: 0.31439581513404846, Test Accuracy: 90.62000274658203\n",
            "Epoch 9, Loss: 0.18577472865581512, Accuracy: 92.9566650390625, Test Loss: 0.31643494963645935, Test Accuracy: 90.7699966430664\n",
            "Epoch 10, Loss: 0.176600843667984, Accuracy: 93.40333557128906, Test Loss: 0.29980096220970154, Test Accuracy: 90.43000030517578\n",
            "Epoch 11, Loss: 0.16570523381233215, Accuracy: 93.70333862304688, Test Loss: 0.33834680914878845, Test Accuracy: 90.4800033569336\n",
            "Epoch 12, Loss: 0.15895502269268036, Accuracy: 93.9383316040039, Test Loss: 0.3288283944129944, Test Accuracy: 90.80999755859375\n",
            "Epoch 13, Loss: 0.15187953412532806, Accuracy: 94.23833465576172, Test Loss: 0.34356963634490967, Test Accuracy: 90.83999633789062\n",
            "Epoch 14, Loss: 0.14622282981872559, Accuracy: 94.46833038330078, Test Loss: 0.3727231025695801, Test Accuracy: 90.72000122070312\n",
            "Final test loss: 0.27635315\n"
          ],
          "name": "stdout"
        }
      ]
    },
    {
      "cell_type": "markdown",
      "metadata": {
        "id": "mU5sBSrh1w5Z"
      },
      "source": [
        "These changes to the CNN did not reduce the final test loss, but they did reduce the amount by which the model was overfitting to the training data, as shown by the test loss remaining lower for later epochs in comparison to models without regularisation techniques applied"
      ]
    },
    {
      "cell_type": "markdown",
      "metadata": {
        "id": "9gs1rRk0UUvu"
      },
      "source": [
        "**Plotting results**\n",
        "\n",
        "Run this code after data has been collected to plot results of test and training loss vs epoch"
      ]
    },
    {
      "cell_type": "code",
      "metadata": {
        "colab": {
          "base_uri": "https://localhost:8080/",
          "height": 627
        },
        "id": "n-KQt9TxUeJZ",
        "outputId": "ceedca01-7f65-4a5c-edf0-7ef6d29f4a54"
      },
      "source": [
        "fig = plt.figure(figsize=(10,10))\n",
        "ax = fig.add_subplot(111)\n",
        "ax.plot(epoch_number, stored_train_loss,epoch_number,stored_test_loss)\n",
        "ax.set_xlabel('Epoch', fontsize = 14)\n",
        "ax.set_ylabel('Loss', fontsize=14)\n",
        "ax.legend(('Training loss','Test loss'), fontsize=14)"
      ],
      "execution_count": null,
      "outputs": [
        {
          "output_type": "execute_result",
          "data": {
            "text/plain": [
              "<matplotlib.legend.Legend at 0x7fee20100e90>"
            ]
          },
          "metadata": {
            "tags": []
          },
          "execution_count": 36
        },
        {
          "output_type": "display_data",
          "data": {
            "image/png": "[encoded data removed]",
            "text/plain": [
              "<Figure size 720x720 with 1 Axes>"
            ]
          },
          "metadata": {
            "tags": [],
            "needs_background": "light"
          }
        }
      ]
    },
    {
      "cell_type": "markdown",
      "metadata": {
        "id": "MhJj3iZu3xPu"
      },
      "source": [
        "**Experimenting with different layers of the CNN model**"
      ]
    },
    {
      "cell_type": "markdown",
      "metadata": {
        "id": "ULpj_Jln1gJY"
      },
      "source": [
        "Experimenting with different numbers of convolutional layers, filters and pooling layers to explore how this will impact the final test loss and the shape of the training and test loss functions. Here the method of creating and training the model has been changed from the previous section, which had been based on the regularisation model used previously."
      ]
    },
    {
      "cell_type": "code",
      "metadata": {
        "id": "YG-yKkmo4xh3"
      },
      "source": [
        "def build_model():\n",
        "  model = Sequential()\n",
        "  model.add(Conv2D(32, 3, activation='relu', input_shape=(28,28,1)))\n",
        "  model.add(Flatten())\n",
        "  model.add(Dense(128, activation='relu'))\n",
        "  model.add(Dense(128, activation='relu'))\n",
        "  model.add(Dense(10, activation = 'softmax'))\n",
        "  model.summary()\n",
        "\n",
        "  model.compile(optimizer='adam',\n",
        "                loss=tf.keras.losses.SparseCategoricalCrossentropy(from_logits=True),\n",
        "                metrics=['accuracy'])\n",
        "  return model"
      ],
      "execution_count": null,
      "outputs": []
    },
    {
      "cell_type": "code",
      "metadata": {
        "id": "BmkuBlemdsjZ"
      },
      "source": [
        "x_train = x_train/255\n",
        "x_test = x_test/255"
      ],
      "execution_count": null,
      "outputs": []
    },
    {
      "cell_type": "code",
      "metadata": {
        "colab": {
          "base_uri": "https://localhost:8080/"
        },
        "id": "jzLBRfar5TWu",
        "outputId": "41eb7c8c-8b24-48f2-b349-6c00beb92325"
      },
      "source": [
        "model = build_model()\n",
        "\n",
        "callback = tf.keras.callbacks.EarlyStopping(monitor='val_loss', patience=20,\n",
        "                                            restore_best_weights=True)\n",
        "history = model.fit(x_train, y_train, batch_size=256, epochs=50, verbose=1, \n",
        "                    validation_data=(x_test, y_test), callbacks=[callback])\n",
        "\n",
        "test_loss, test_acc = model.evaluate(x_test,  y_test, verbose=2)"
      ],
      "execution_count": null,
      "outputs": [
        {
          "output_type": "stream",
          "text": [
            "Model: \"sequential_9\"\n",
            "_________________________________________________________________\n",
            "Layer (type)                 Output Shape              Param #   \n",
            "=================================================================\n",
            "conv2d_11 (Conv2D)           (None, 26, 26, 32)        320       \n",
            "_________________________________________________________________\n",
            "flatten_9 (Flatten)          (None, 21632)             0         \n",
            "_________________________________________________________________\n",
            "dense_18 (Dense)             (None, 128)               2769024   \n",
            "_________________________________________________________________\n",
            "dense_19 (Dense)             (None, 128)               16512     \n",
            "_________________________________________________________________\n",
            "dense_20 (Dense)             (None, 10)                1290      \n",
            "=================================================================\n",
            "Total params: 2,787,146\n",
            "Trainable params: 2,787,146\n",
            "Non-trainable params: 0\n",
            "_________________________________________________________________\n",
            "Epoch 1/50\n",
            "235/235 [==============================] - 2s 7ms/step - loss: 0.6972 - accuracy: 0.7575 - val_loss: 0.3700 - val_accuracy: 0.8699\n",
            "Epoch 2/50\n",
            "235/235 [==============================] - 1s 6ms/step - loss: 0.3073 - accuracy: 0.8895 - val_loss: 0.3127 - val_accuracy: 0.8852\n",
            "Epoch 3/50\n",
            "235/235 [==============================] - 1s 6ms/step - loss: 0.2580 - accuracy: 0.9057 - val_loss: 0.2994 - val_accuracy: 0.8922\n",
            "Epoch 4/50\n",
            "235/235 [==============================] - 1s 6ms/step - loss: 0.2166 - accuracy: 0.9220 - val_loss: 0.2869 - val_accuracy: 0.8927\n",
            "Epoch 5/50\n",
            "235/235 [==============================] - 1s 6ms/step - loss: 0.1917 - accuracy: 0.9296 - val_loss: 0.2826 - val_accuracy: 0.8997\n",
            "Epoch 6/50\n",
            "235/235 [==============================] - 1s 6ms/step - loss: 0.1699 - accuracy: 0.9377 - val_loss: 0.2789 - val_accuracy: 0.9014\n",
            "Epoch 7/50\n",
            "235/235 [==============================] - 1s 6ms/step - loss: 0.1463 - accuracy: 0.9471 - val_loss: 0.2807 - val_accuracy: 0.9050\n",
            "Epoch 8/50\n",
            "235/235 [==============================] - 1s 6ms/step - loss: 0.1273 - accuracy: 0.9541 - val_loss: 0.2838 - val_accuracy: 0.9060\n",
            "Epoch 9/50\n",
            "235/235 [==============================] - 1s 6ms/step - loss: 0.1066 - accuracy: 0.9611 - val_loss: 0.3016 - val_accuracy: 0.9038\n",
            "Epoch 10/50\n",
            "235/235 [==============================] - 1s 6ms/step - loss: 0.0918 - accuracy: 0.9666 - val_loss: 0.3228 - val_accuracy: 0.9080\n",
            "Epoch 11/50\n",
            "235/235 [==============================] - 1s 6ms/step - loss: 0.0789 - accuracy: 0.9714 - val_loss: 0.3312 - val_accuracy: 0.9065\n",
            "Epoch 12/50\n",
            "235/235 [==============================] - 1s 6ms/step - loss: 0.0705 - accuracy: 0.9750 - val_loss: 0.3511 - val_accuracy: 0.9070\n",
            "Epoch 13/50\n",
            "235/235 [==============================] - 1s 6ms/step - loss: 0.0578 - accuracy: 0.9798 - val_loss: 0.3587 - val_accuracy: 0.9101\n",
            "Epoch 14/50\n",
            "235/235 [==============================] - 1s 6ms/step - loss: 0.0495 - accuracy: 0.9832 - val_loss: 0.3852 - val_accuracy: 0.9066\n",
            "Epoch 15/50\n",
            "235/235 [==============================] - 1s 6ms/step - loss: 0.0401 - accuracy: 0.9871 - val_loss: 0.3905 - val_accuracy: 0.9100\n",
            "Epoch 16/50\n",
            "235/235 [==============================] - 1s 6ms/step - loss: 0.0340 - accuracy: 0.9889 - val_loss: 0.4358 - val_accuracy: 0.9104\n",
            "Epoch 17/50\n",
            "235/235 [==============================] - 1s 6ms/step - loss: 0.0300 - accuracy: 0.9901 - val_loss: 0.4594 - val_accuracy: 0.9105\n",
            "Epoch 18/50\n",
            "235/235 [==============================] - 1s 6ms/step - loss: 0.0299 - accuracy: 0.9903 - val_loss: 0.5057 - val_accuracy: 0.9069\n",
            "Epoch 19/50\n",
            "235/235 [==============================] - 1s 6ms/step - loss: 0.0305 - accuracy: 0.9889 - val_loss: 0.4811 - val_accuracy: 0.9056\n",
            "Epoch 20/50\n",
            "235/235 [==============================] - 1s 6ms/step - loss: 0.0243 - accuracy: 0.9921 - val_loss: 0.5049 - val_accuracy: 0.9083\n",
            "Epoch 21/50\n",
            "235/235 [==============================] - 1s 6ms/step - loss: 0.0221 - accuracy: 0.9932 - val_loss: 0.5120 - val_accuracy: 0.9079\n",
            "Epoch 22/50\n",
            "235/235 [==============================] - 1s 6ms/step - loss: 0.0180 - accuracy: 0.9943 - val_loss: 0.5510 - val_accuracy: 0.9093\n",
            "Epoch 23/50\n",
            "235/235 [==============================] - 1s 6ms/step - loss: 0.0160 - accuracy: 0.9943 - val_loss: 0.5477 - val_accuracy: 0.9056\n",
            "Epoch 24/50\n",
            "235/235 [==============================] - 1s 6ms/step - loss: 0.0141 - accuracy: 0.9953 - val_loss: 0.5837 - val_accuracy: 0.9062\n",
            "Epoch 25/50\n",
            "235/235 [==============================] - 1s 6ms/step - loss: 0.0164 - accuracy: 0.9948 - val_loss: 0.5999 - val_accuracy: 0.9062\n",
            "Epoch 26/50\n",
            "235/235 [==============================] - 1s 6ms/step - loss: 0.0122 - accuracy: 0.9963 - val_loss: 0.6178 - val_accuracy: 0.9072\n",
            "313/313 - 0s - loss: 0.2789 - accuracy: 0.9014\n"
          ],
          "name": "stdout"
        }
      ]
    },
    {
      "cell_type": "markdown",
      "metadata": {
        "id": "u1PT90pUhYRD"
      },
      "source": [
        "**LeNet Model**\n",
        "\n",
        "The LeNet model was designed to use 3 convolutional layers, 2 pooling layers, and 2 fully connected layers"
      ]
    },
    {
      "cell_type": "code",
      "metadata": {
        "id": "0GwraMluhX4Y"
      },
      "source": [
        "x_train_padding = np.pad(x_train,((0,0), (2,2), (2,2), (0,0)))\n",
        "x_test_padding = np.pad(x_test,((0,0), (2,2), (2,2), (0,0)))\n",
        "\n",
        "def build_model():\n",
        "  model = Sequential()\n",
        "  model.add(Conv2D(6, 5, activation='relu', input_shape=(32,32,1)))\n",
        "  model.add(MaxPooling2D())\n",
        "  model.add(Conv2D(16, 5, activation='relu'))\n",
        "  model.add(MaxPooling2D())\n",
        "  model.add(Conv2D(120, 5, activation='relu'))\n",
        "  model.add(Flatten())\n",
        "  model.add(Dense(84, activation='relu'))\n",
        "  model.add(Dense(10, activation = 'softmax'))\n",
        "  model.summary()\n",
        "\n",
        "  model.compile(optimizer='adam',\n",
        "                loss=tf.keras.losses.SparseCategoricalCrossentropy(from_logits=True),\n",
        "                metrics=['accuracy'])\n",
        "  return model"
      ],
      "execution_count": null,
      "outputs": []
    },
    {
      "cell_type": "markdown",
      "metadata": {
        "id": "O-uvywH-lA7Q"
      },
      "source": [
        "Running this model:"
      ]
    },
    {
      "cell_type": "code",
      "metadata": {
        "colab": {
          "base_uri": "https://localhost:8080/"
        },
        "id": "9yi58uwllF_h",
        "outputId": "b70aab6d-492b-4f1f-e5e6-98fe459f799b"
      },
      "source": [
        "model = build_model()\n",
        "\n",
        "callback = tf.keras.callbacks.EarlyStopping(monitor='val_loss', patience=10,\n",
        "                                            restore_best_weights=True)\n",
        "history = model.fit(x_train_padding, y_train, batch_size=256, epochs=50, verbose=1, \n",
        "                    validation_data=(x_test_padding, y_test), callbacks=[callback])\n",
        "\n",
        "test_loss, test_acc = model.evaluate(x_test_padding,  y_test, verbose=2)"
      ],
      "execution_count": null,
      "outputs": [
        {
          "output_type": "stream",
          "text": [
            "Model: \"sequential\"\n",
            "_________________________________________________________________\n",
            "Layer (type)                 Output Shape              Param #   \n",
            "=================================================================\n",
            "conv2d (Conv2D)              (None, 28, 28, 6)         156       \n",
            "_________________________________________________________________\n",
            "max_pooling2d (MaxPooling2D) (None, 14, 14, 6)         0         \n",
            "_________________________________________________________________\n",
            "conv2d_1 (Conv2D)            (None, 10, 10, 16)        2416      \n",
            "_________________________________________________________________\n",
            "max_pooling2d_1 (MaxPooling2 (None, 5, 5, 16)          0         \n",
            "_________________________________________________________________\n",
            "conv2d_2 (Conv2D)            (None, 1, 1, 120)         48120     \n",
            "_________________________________________________________________\n",
            "flatten (Flatten)            (None, 120)               0         \n",
            "_________________________________________________________________\n",
            "dense (Dense)                (None, 84)                10164     \n",
            "_________________________________________________________________\n",
            "dense_1 (Dense)              (None, 10)                850       \n",
            "=================================================================\n",
            "Total params: 61,706\n",
            "Trainable params: 61,706\n",
            "Non-trainable params: 0\n",
            "_________________________________________________________________\n",
            "Epoch 1/50\n",
            "235/235 [==============================] - 29s 123ms/step - loss: 1.3356 - accuracy: 0.6763 - val_loss: 0.4386 - val_accuracy: 0.8430\n",
            "Epoch 2/50\n",
            "235/235 [==============================] - 28s 121ms/step - loss: 0.3756 - accuracy: 0.8616 - val_loss: 0.4003 - val_accuracy: 0.8562\n",
            "Epoch 3/50\n",
            "235/235 [==============================] - 28s 121ms/step - loss: 0.3196 - accuracy: 0.8823 - val_loss: 0.3687 - val_accuracy: 0.8714\n",
            "Epoch 4/50\n",
            "235/235 [==============================] - 29s 121ms/step - loss: 0.2930 - accuracy: 0.8918 - val_loss: 0.3534 - val_accuracy: 0.8755\n",
            "Epoch 5/50\n",
            "235/235 [==============================] - 28s 121ms/step - loss: 0.2726 - accuracy: 0.8969 - val_loss: 0.3284 - val_accuracy: 0.8852\n",
            "Epoch 6/50\n",
            "235/235 [==============================] - 28s 121ms/step - loss: 0.2561 - accuracy: 0.9033 - val_loss: 0.3226 - val_accuracy: 0.8863\n",
            "Epoch 7/50\n",
            "235/235 [==============================] - 29s 122ms/step - loss: 0.2336 - accuracy: 0.9116 - val_loss: 0.3285 - val_accuracy: 0.8877\n",
            "Epoch 8/50\n",
            "235/235 [==============================] - 29s 122ms/step - loss: 0.2264 - accuracy: 0.9139 - val_loss: 0.3451 - val_accuracy: 0.8845\n",
            "Epoch 9/50\n",
            "235/235 [==============================] - 28s 121ms/step - loss: 0.2197 - accuracy: 0.9189 - val_loss: 0.3192 - val_accuracy: 0.8904\n",
            "Epoch 10/50\n",
            "235/235 [==============================] - 28s 121ms/step - loss: 0.2041 - accuracy: 0.9223 - val_loss: 0.3481 - val_accuracy: 0.8867\n",
            "Epoch 11/50\n",
            "235/235 [==============================] - 29s 122ms/step - loss: 0.1977 - accuracy: 0.9255 - val_loss: 0.3320 - val_accuracy: 0.8890\n",
            "Epoch 12/50\n",
            "235/235 [==============================] - 28s 121ms/step - loss: 0.1893 - accuracy: 0.9283 - val_loss: 0.3339 - val_accuracy: 0.8869\n",
            "Epoch 13/50\n",
            "235/235 [==============================] - 29s 122ms/step - loss: 0.1792 - accuracy: 0.9312 - val_loss: 0.3744 - val_accuracy: 0.8805\n",
            "Epoch 14/50\n",
            "235/235 [==============================] - 29s 122ms/step - loss: 0.1740 - accuracy: 0.9340 - val_loss: 0.3488 - val_accuracy: 0.8927\n",
            "Epoch 15/50\n",
            "235/235 [==============================] - 29s 122ms/step - loss: 0.1625 - accuracy: 0.9377 - val_loss: 0.3676 - val_accuracy: 0.8884\n",
            "Epoch 16/50\n",
            "235/235 [==============================] - 29s 122ms/step - loss: 0.1605 - accuracy: 0.9398 - val_loss: 0.3977 - val_accuracy: 0.8812\n",
            "Epoch 17/50\n",
            "235/235 [==============================] - 29s 123ms/step - loss: 0.1554 - accuracy: 0.9426 - val_loss: 0.3549 - val_accuracy: 0.8910\n",
            "Epoch 18/50\n",
            "235/235 [==============================] - 29s 122ms/step - loss: 0.1418 - accuracy: 0.9464 - val_loss: 0.3732 - val_accuracy: 0.8866\n",
            "Epoch 19/50\n",
            "235/235 [==============================] - 29s 122ms/step - loss: 0.1380 - accuracy: 0.9474 - val_loss: 0.4107 - val_accuracy: 0.8820\n",
            "313/313 - 2s - loss: 0.3192 - accuracy: 0.8904\n"
          ],
          "name": "stdout"
        }
      ]
    },
    {
      "cell_type": "markdown",
      "metadata": {
        "id": "U_8sZRV18WBF"
      },
      "source": [
        "This model has not improved on the final test loss determined by the basic CNN model - but it does have the advantage of having far fewer trainable parameters to modify train which allows the model to be trained in a shorter time period. However, with current computing power, a model on this scale is very quick to run anyway so the advantage that this gives is marginal."
      ]
    },
    {
      "cell_type": "markdown",
      "metadata": {
        "id": "9giIhCU5deWW"
      },
      "source": [
        "**AlexNet**"
      ]
    },
    {
      "cell_type": "markdown",
      "metadata": {
        "id": "Fh4bzNp_dhMA"
      },
      "source": [
        "AlexNet is known as the first deep CNN, a network based on this structure has been created and implemented on the data set here:"
      ]
    },
    {
      "cell_type": "code",
      "metadata": {
        "id": "1IhcFtbTdwa1",
        "colab": {
          "base_uri": "https://localhost:8080/"
        },
        "outputId": "b7c32479-1307-44c9-dd63-a5d868eb6a92"
      },
      "source": [
        "fashion_mnist = tf.keras.datasets.fashion_mnist\n",
        "(x_train, y_train), (x_test, y_test) = fashion_mnist.load_data()\n",
        "\n",
        "x_train = x_train[..., tf.newaxis].astype(np.float32)\n",
        "x_test = x_test[..., tf.newaxis].astype(np.float32)\n",
        "\n",
        "x_train_upsampled = tf.image.resize(x_train, [112,112])/255\n",
        "x_test_upsampled = tf.image.resize(x_test, [112,112])/255\n",
        "\n",
        "\n",
        "def build_model():\n",
        "  model = Sequential()\n",
        "  model.add(Conv2D(96, 11, activation='relu', input_shape=(112,112,1), strides=4))\n",
        "  model.add(AveragePooling2D(strides=2))\n",
        "  model.add(Conv2D(256, 5, activation='relu', padding='same'))\n",
        "  model.add(AveragePooling2D(strides=2))\n",
        "  model.add(Conv2D(384, 3, activation='relu', padding='same'))\n",
        "  model.add(Conv2D(384, 3, activation='relu', padding='same'))\n",
        "  model.add(Conv2D(384, 3, activation='relu', padding='same'))\n",
        "  model.add(AveragePooling2D(strides=2))\n",
        "  model.add(Flatten())\n",
        "  model.add(Dense(4096, activation='relu'))\n",
        "  model.add(Dense(4096, activation='relu'))\n",
        "  model.add(Dense(10, activation = 'softmax'))\n",
        "\n",
        "  model.compile(optimizer='adam',\n",
        "                loss=tf.keras.losses.SparseCategoricalCrossentropy(from_logits=True),\n",
        "                metrics=['accuracy'])\n",
        "  return model"
      ],
      "execution_count": null,
      "outputs": [
        {
          "output_type": "stream",
          "text": [
            "Downloading data from https://storage.googleapis.com/tensorflow/tf-keras-datasets/train-labels-idx1-ubyte.gz\n",
            "32768/29515 [=================================] - 0s 0us/step\n",
            "Downloading data from https://storage.googleapis.com/tensorflow/tf-keras-datasets/train-images-idx3-ubyte.gz\n",
            "26427392/26421880 [==============================] - 0s 0us/step\n",
            "Downloading data from https://storage.googleapis.com/tensorflow/tf-keras-datasets/t10k-labels-idx1-ubyte.gz\n",
            "8192/5148 [===============================================] - 0s 0us/step\n",
            "Downloading data from https://storage.googleapis.com/tensorflow/tf-keras-datasets/t10k-images-idx3-ubyte.gz\n",
            "4423680/4422102 [==============================] - 0s 0us/step\n"
          ],
          "name": "stdout"
        }
      ]
    },
    {
      "cell_type": "code",
      "metadata": {
        "colab": {
          "base_uri": "https://localhost:8080/"
        },
        "id": "LLFgf9Kld1Px",
        "outputId": "39d18d40-8a01-4f47-938d-90af6f0e03d6"
      },
      "source": [
        "model = build_model()\n",
        "\n",
        "print(model.summary())\n",
        "\n",
        "callback = tf.keras.callbacks.EarlyStopping(monitor='val_loss', patience=10,\n",
        "                                            restore_best_weights=True)\n",
        "history = model.fit(x_train_upsampled, y_train, batch_size=256, epochs=50, verbose=1, \n",
        "                    validation_data=(x_test_upsampled, y_test), callbacks=[callback])\n",
        "\n",
        "test_loss, test_acc = model.evaluate(x_test_upsampled,  y_test, verbose=2)"
      ],
      "execution_count": null,
      "outputs": [
        {
          "output_type": "stream",
          "text": [
            "Model: \"sequential\"\n",
            "_________________________________________________________________\n",
            "Layer (type)                 Output Shape              Param #   \n",
            "=================================================================\n",
            "conv2d (Conv2D)              (None, 26, 26, 96)        11712     \n",
            "_________________________________________________________________\n",
            "average_pooling2d (AveragePo (None, 13, 13, 96)        0         \n",
            "_________________________________________________________________\n",
            "conv2d_1 (Conv2D)            (None, 13, 13, 256)       614656    \n",
            "_________________________________________________________________\n",
            "average_pooling2d_1 (Average (None, 6, 6, 256)         0         \n",
            "_________________________________________________________________\n",
            "conv2d_2 (Conv2D)            (None, 6, 6, 384)         885120    \n",
            "_________________________________________________________________\n",
            "conv2d_3 (Conv2D)            (None, 6, 6, 384)         1327488   \n",
            "_________________________________________________________________\n",
            "conv2d_4 (Conv2D)            (None, 6, 6, 384)         1327488   \n",
            "_________________________________________________________________\n",
            "average_pooling2d_2 (Average (None, 3, 3, 384)         0         \n",
            "_________________________________________________________________\n",
            "flatten (Flatten)            (None, 3456)              0         \n",
            "_________________________________________________________________\n",
            "dense (Dense)                (None, 4096)              14159872  \n",
            "_________________________________________________________________\n",
            "dense_1 (Dense)              (None, 4096)              16781312  \n",
            "_________________________________________________________________\n",
            "dense_2 (Dense)              (None, 10)                40970     \n",
            "=================================================================\n",
            "Total params: 35,148,618\n",
            "Trainable params: 35,148,618\n",
            "Non-trainable params: 0\n",
            "_________________________________________________________________\n",
            "None\n",
            "Epoch 1/50\n",
            "235/235 [==============================] - 58s 103ms/step - loss: 1.2448 - accuracy: 0.5220 - val_loss: 0.4869 - val_accuracy: 0.8168\n",
            "Epoch 2/50\n",
            "235/235 [==============================] - 23s 100ms/step - loss: 0.4035 - accuracy: 0.8476 - val_loss: 0.3767 - val_accuracy: 0.8593\n",
            "Epoch 3/50\n",
            "235/235 [==============================] - 23s 97ms/step - loss: 0.3203 - accuracy: 0.8802 - val_loss: 0.3121 - val_accuracy: 0.8808\n",
            "Epoch 4/50\n",
            "235/235 [==============================] - 23s 96ms/step - loss: 0.2652 - accuracy: 0.9004 - val_loss: 0.2861 - val_accuracy: 0.8948\n",
            "Epoch 5/50\n",
            "235/235 [==============================] - 23s 97ms/step - loss: 0.2364 - accuracy: 0.9120 - val_loss: 0.2698 - val_accuracy: 0.9039\n",
            "Epoch 6/50\n",
            "235/235 [==============================] - 23s 98ms/step - loss: 0.2241 - accuracy: 0.9149 - val_loss: 0.2642 - val_accuracy: 0.9028\n",
            "Epoch 7/50\n",
            "235/235 [==============================] - 23s 97ms/step - loss: 0.2090 - accuracy: 0.9199 - val_loss: 0.2792 - val_accuracy: 0.9001\n",
            "Epoch 8/50\n",
            "235/235 [==============================] - 23s 98ms/step - loss: 0.1898 - accuracy: 0.9283 - val_loss: 0.2730 - val_accuracy: 0.9065\n",
            "Epoch 9/50\n",
            "235/235 [==============================] - 23s 98ms/step - loss: 0.1714 - accuracy: 0.9354 - val_loss: 0.2734 - val_accuracy: 0.9049\n",
            "Epoch 10/50\n",
            "235/235 [==============================] - 23s 97ms/step - loss: 0.1562 - accuracy: 0.9406 - val_loss: 0.2527 - val_accuracy: 0.9171\n",
            "Epoch 11/50\n",
            "235/235 [==============================] - 23s 97ms/step - loss: 0.1434 - accuracy: 0.9457 - val_loss: 0.2523 - val_accuracy: 0.9157\n",
            "Epoch 12/50\n",
            "235/235 [==============================] - 23s 97ms/step - loss: 0.1234 - accuracy: 0.9532 - val_loss: 0.2728 - val_accuracy: 0.9145\n",
            "Epoch 13/50\n",
            "235/235 [==============================] - 23s 98ms/step - loss: 0.1204 - accuracy: 0.9540 - val_loss: 0.2804 - val_accuracy: 0.9173\n",
            "Epoch 14/50\n",
            "235/235 [==============================] - 23s 97ms/step - loss: 0.1105 - accuracy: 0.9577 - val_loss: 0.2922 - val_accuracy: 0.9164\n",
            "Epoch 15/50\n",
            "235/235 [==============================] - 23s 97ms/step - loss: 0.0988 - accuracy: 0.9619 - val_loss: 0.3164 - val_accuracy: 0.9118\n",
            "Epoch 16/50\n",
            "235/235 [==============================] - 23s 97ms/step - loss: 0.0904 - accuracy: 0.9667 - val_loss: 0.3098 - val_accuracy: 0.9177\n",
            "Epoch 17/50\n",
            "235/235 [==============================] - 23s 97ms/step - loss: 0.0753 - accuracy: 0.9700 - val_loss: 0.3275 - val_accuracy: 0.9178\n",
            "Epoch 18/50\n",
            "235/235 [==============================] - 23s 97ms/step - loss: 0.0699 - accuracy: 0.9722 - val_loss: 0.3173 - val_accuracy: 0.9195\n",
            "Epoch 19/50\n",
            "235/235 [==============================] - 23s 97ms/step - loss: 0.0671 - accuracy: 0.9745 - val_loss: 0.3240 - val_accuracy: 0.9183\n",
            "Epoch 20/50\n",
            "235/235 [==============================] - 23s 97ms/step - loss: 0.0574 - accuracy: 0.9778 - val_loss: 0.3676 - val_accuracy: 0.9167\n",
            "Epoch 21/50\n",
            "235/235 [==============================] - 23s 97ms/step - loss: 0.0540 - accuracy: 0.9796 - val_loss: 0.3995 - val_accuracy: 0.9172\n",
            "313/313 - 2s - loss: 0.2523 - accuracy: 0.9157\n"
          ],
          "name": "stdout"
        }
      ]
    },
    {
      "cell_type": "markdown",
      "metadata": {
        "id": "rwx9O31uaLca"
      },
      "source": [
        "Using the AlexNet architecture led to a slight improvement in the test accuracy and loss, but this is only a marginal increase so may be a random fluctuation in the results. More repeats would be required to identify if this is the case."
      ]
    },
    {
      "cell_type": "markdown",
      "metadata": {
        "id": "vEvnlLYRtGnm"
      },
      "source": [
        "**Plotting Results**"
      ]
    },
    {
      "cell_type": "markdown",
      "metadata": {
        "id": "bQub27oTagvA"
      },
      "source": [
        "Code to run after the modified CNN, LeNet or AlexNet models to plot training and test loss as a function of epoch"
      ]
    },
    {
      "cell_type": "code",
      "metadata": {
        "colab": {
          "base_uri": "https://localhost:8080/",
          "height": 279
        },
        "id": "HziLfPEjtMEG",
        "outputId": "4c53b888-eb74-4594-9877-34179d0f06ec"
      },
      "source": [
        "loss_values = history.history['loss']\n",
        "val_loss = history.history['val_loss']\n",
        "epochs = range(1, len(loss_values)+1)\n",
        "\n",
        "plt.plot(epochs, loss_values, label='Training Loss')\n",
        "plt.plot(epochs, val_loss, label='Test Loss')\n",
        "plt.xlabel('Epochs')\n",
        "plt.ylabel('Loss')\n",
        "plt.legend()\n",
        "\n",
        "plt.show()"
      ],
      "execution_count": null,
      "outputs": [
        {
          "output_type": "display_data",
          "data": {
            "image/png": "[encoded data removed]",
            "text/plain": [
              "<Figure size 432x288 with 1 Axes>"
            ]
          },
          "metadata": {
            "tags": [],
            "needs_background": "light"
          }
        }
      ]
    }
  ]
}